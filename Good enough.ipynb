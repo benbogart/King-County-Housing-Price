{
 "cells": [
  {
   "cell_type": "markdown",
   "metadata": {
    "toc": true
   },
   "source": [
    "<h1>Table of Contents<span class=\"tocSkip\"></span></h1>\n",
    "<div class=\"toc\"><ul class=\"toc-item\"><li><span><a href=\"#Good-Enough-workflow!\" data-toc-modified-id=\"Good-Enough-workflow!-1\"><span class=\"toc-item-num\">1&nbsp;&nbsp;</span>Good Enough workflow!</a></span></li><li><span><a href=\"#Get-Data\" data-toc-modified-id=\"Get-Data-2\"><span class=\"toc-item-num\">2&nbsp;&nbsp;</span>Get Data</a></span><ul class=\"toc-item\"><li><span><a href=\"#Drop-Duplicates\" data-toc-modified-id=\"Drop-Duplicates-2.1\"><span class=\"toc-item-num\">2.1&nbsp;&nbsp;</span>Drop Duplicates</a></span></li><li><span><a href=\"#missing-values\" data-toc-modified-id=\"missing-values-2.2\"><span class=\"toc-item-num\">2.2&nbsp;&nbsp;</span>missing values</a></span><ul class=\"toc-item\"><li><ul class=\"toc-item\"><li><span><a href=\"#waterfront\" data-toc-modified-id=\"waterfront-2.2.0.1\"><span class=\"toc-item-num\">2.2.0.1&nbsp;&nbsp;</span>waterfront</a></span></li><li><span><a href=\"#view\" data-toc-modified-id=\"view-2.2.0.2\"><span class=\"toc-item-num\">2.2.0.2&nbsp;&nbsp;</span>view</a></span></li><li><span><a href=\"#yr_renovated\" data-toc-modified-id=\"yr_renovated-2.2.0.3\"><span class=\"toc-item-num\">2.2.0.3&nbsp;&nbsp;</span>yr_renovated</a></span></li></ul></li><li><span><a href=\"#Recheck-Nan-values\" data-toc-modified-id=\"Recheck-Nan-values-2.2.1\"><span class=\"toc-item-num\">2.2.1&nbsp;&nbsp;</span>Recheck Nan values</a></span></li></ul></li><li><span><a href=\"#Create-Usable-(not-necessarily-final)-datatypes\" data-toc-modified-id=\"Create-Usable-(not-necessarily-final)-datatypes-2.3\"><span class=\"toc-item-num\">2.3&nbsp;&nbsp;</span>Create Usable (not necessarily final) datatypes</a></span><ul class=\"toc-item\"><li><span><a href=\"#Drop-date-(look-for-trend-later-if-there-is-time)\" data-toc-modified-id=\"Drop-date-(look-for-trend-later-if-there-is-time)-2.3.1\"><span class=\"toc-item-num\">2.3.1&nbsp;&nbsp;</span>Drop date (look for trend later if there is time)</a></span></li><li><span><a href=\"#sqft_basement\" data-toc-modified-id=\"sqft_basement-2.3.2\"><span class=\"toc-item-num\">2.3.2&nbsp;&nbsp;</span>sqft_basement</a></span></li></ul></li><li><span><a href=\"#Baseline-Model\" data-toc-modified-id=\"Baseline-Model-2.4\"><span class=\"toc-item-num\">2.4&nbsp;&nbsp;</span>Baseline Model</a></span></li></ul></li><li><span><a href=\"#Tools\" data-toc-modified-id=\"Tools-3\"><span class=\"toc-item-num\">3&nbsp;&nbsp;</span>Tools</a></span></li><li><span><a href=\"#Iterate-the-model\" data-toc-modified-id=\"Iterate-the-model-4\"><span class=\"toc-item-num\">4&nbsp;&nbsp;</span>Iterate the model</a></span><ul class=\"toc-item\"><li><span><a href=\"#bedrooms\" data-toc-modified-id=\"bedrooms-4.1\"><span class=\"toc-item-num\">4.1&nbsp;&nbsp;</span>bedrooms</a></span></li><li><span><a href=\"#bathrooms\" data-toc-modified-id=\"bathrooms-4.2\"><span class=\"toc-item-num\">4.2&nbsp;&nbsp;</span>bathrooms</a></span></li><li><span><a href=\"#sqft-_living\" data-toc-modified-id=\"sqft-_living-4.3\"><span class=\"toc-item-num\">4.3&nbsp;&nbsp;</span>sqft _living</a></span></li><li><span><a href=\"#sqft_lot\" data-toc-modified-id=\"sqft_lot-4.4\"><span class=\"toc-item-num\">4.4&nbsp;&nbsp;</span>sqft_lot</a></span></li><li><span><a href=\"#Floors\" data-toc-modified-id=\"Floors-4.5\"><span class=\"toc-item-num\">4.5&nbsp;&nbsp;</span>Floors</a></span></li><li><span><a href=\"#waterfront\" data-toc-modified-id=\"waterfront-4.6\"><span class=\"toc-item-num\">4.6&nbsp;&nbsp;</span>waterfront</a></span></li></ul></li></ul></div>"
   ]
  },
  {
   "cell_type": "markdown",
   "metadata": {},
   "source": [
    "# Good Enough workflow!\n"
   ]
  },
  {
   "cell_type": "markdown",
   "metadata": {},
   "source": [
    "# Get Data"
   ]
  },
  {
   "cell_type": "code",
   "execution_count": 1,
   "metadata": {},
   "outputs": [],
   "source": [
    "import pandas as pd\n",
    "import numpy as np\n",
    "import matplotlib.pyplot as plt\n",
    "import seaborn as sns\n",
    "%matplotlib inline\n",
    "\n",
    "import scipy.stats as stats\n",
    "\n",
    "import statsmodels.api as sm\n",
    "from statsmodels.stats.outliers_influence import variance_inflation_factor\n",
    "import statsmodels.stats.api as sms\n",
    "\n",
    "from sklearn.metrics import make_scorer, mean_squared_error, r2_score\n",
    "from sklearn.model_selection import cross_val_score, cross_validate\n",
    "from sklearn.linear_model import LinearRegression\n",
    "from sklearn.cluster import DBSCAN\n",
    "\n",
    "from scipy.stats import shapiro\n",
    "\n",
    "pd.options.display.max_columns = 100\n",
    "\n",
    "import warnings\n",
    "warnings.simplefilter(action='ignore', category=FutureWarning)\n",
    "\n",
    "from IPython.core.display import HTML\n"
   ]
  },
  {
   "cell_type": "code",
   "execution_count": 2,
   "metadata": {},
   "outputs": [
    {
     "data": {
      "text/html": [
       "<div>\n",
       "<style scoped>\n",
       "    .dataframe tbody tr th:only-of-type {\n",
       "        vertical-align: middle;\n",
       "    }\n",
       "\n",
       "    .dataframe tbody tr th {\n",
       "        vertical-align: top;\n",
       "    }\n",
       "\n",
       "    .dataframe thead th {\n",
       "        text-align: right;\n",
       "    }\n",
       "</style>\n",
       "<table border=\"1\" class=\"dataframe\">\n",
       "  <thead>\n",
       "    <tr style=\"text-align: right;\">\n",
       "      <th></th>\n",
       "      <th>date</th>\n",
       "      <th>price</th>\n",
       "      <th>bedrooms</th>\n",
       "      <th>bathrooms</th>\n",
       "      <th>sqft_living</th>\n",
       "      <th>sqft_lot</th>\n",
       "      <th>floors</th>\n",
       "      <th>waterfront</th>\n",
       "      <th>view</th>\n",
       "      <th>condition</th>\n",
       "      <th>grade</th>\n",
       "      <th>sqft_above</th>\n",
       "      <th>sqft_basement</th>\n",
       "      <th>yr_built</th>\n",
       "      <th>yr_renovated</th>\n",
       "      <th>zipcode</th>\n",
       "      <th>lat</th>\n",
       "      <th>long</th>\n",
       "      <th>sqft_living15</th>\n",
       "      <th>sqft_lot15</th>\n",
       "    </tr>\n",
       "    <tr>\n",
       "      <th>id</th>\n",
       "      <th></th>\n",
       "      <th></th>\n",
       "      <th></th>\n",
       "      <th></th>\n",
       "      <th></th>\n",
       "      <th></th>\n",
       "      <th></th>\n",
       "      <th></th>\n",
       "      <th></th>\n",
       "      <th></th>\n",
       "      <th></th>\n",
       "      <th></th>\n",
       "      <th></th>\n",
       "      <th></th>\n",
       "      <th></th>\n",
       "      <th></th>\n",
       "      <th></th>\n",
       "      <th></th>\n",
       "      <th></th>\n",
       "      <th></th>\n",
       "    </tr>\n",
       "  </thead>\n",
       "  <tbody>\n",
       "    <tr>\n",
       "      <th>7129300520</th>\n",
       "      <td>10/13/2014</td>\n",
       "      <td>221900.0</td>\n",
       "      <td>3</td>\n",
       "      <td>1.00</td>\n",
       "      <td>1180</td>\n",
       "      <td>5650</td>\n",
       "      <td>1.0</td>\n",
       "      <td>NaN</td>\n",
       "      <td>0.0</td>\n",
       "      <td>3</td>\n",
       "      <td>7</td>\n",
       "      <td>1180</td>\n",
       "      <td>0.0</td>\n",
       "      <td>1955</td>\n",
       "      <td>0.0</td>\n",
       "      <td>98178</td>\n",
       "      <td>47.5112</td>\n",
       "      <td>-122.257</td>\n",
       "      <td>1340</td>\n",
       "      <td>5650</td>\n",
       "    </tr>\n",
       "    <tr>\n",
       "      <th>6414100192</th>\n",
       "      <td>12/9/2014</td>\n",
       "      <td>538000.0</td>\n",
       "      <td>3</td>\n",
       "      <td>2.25</td>\n",
       "      <td>2570</td>\n",
       "      <td>7242</td>\n",
       "      <td>2.0</td>\n",
       "      <td>0.0</td>\n",
       "      <td>0.0</td>\n",
       "      <td>3</td>\n",
       "      <td>7</td>\n",
       "      <td>2170</td>\n",
       "      <td>400.0</td>\n",
       "      <td>1951</td>\n",
       "      <td>1991.0</td>\n",
       "      <td>98125</td>\n",
       "      <td>47.7210</td>\n",
       "      <td>-122.319</td>\n",
       "      <td>1690</td>\n",
       "      <td>7639</td>\n",
       "    </tr>\n",
       "  </tbody>\n",
       "</table>\n",
       "</div>"
      ],
      "text/plain": [
       "                  date     price  bedrooms  bathrooms  sqft_living  sqft_lot  \\\n",
       "id                                                                             \n",
       "7129300520  10/13/2014  221900.0         3       1.00         1180      5650   \n",
       "6414100192   12/9/2014  538000.0         3       2.25         2570      7242   \n",
       "\n",
       "            floors  waterfront  view  condition  grade  sqft_above  \\\n",
       "id                                                                   \n",
       "7129300520     1.0         NaN   0.0          3      7        1180   \n",
       "6414100192     2.0         0.0   0.0          3      7        2170   \n",
       "\n",
       "           sqft_basement  yr_built  yr_renovated  zipcode      lat     long  \\\n",
       "id                                                                            \n",
       "7129300520           0.0      1955           0.0    98178  47.5112 -122.257   \n",
       "6414100192         400.0      1951        1991.0    98125  47.7210 -122.319   \n",
       "\n",
       "            sqft_living15  sqft_lot15  \n",
       "id                                     \n",
       "7129300520           1340        5650  \n",
       "6414100192           1690        7639  "
      ]
     },
     "execution_count": 2,
     "metadata": {},
     "output_type": "execute_result"
    }
   ],
   "source": [
    "df = pd.read_csv('data/kc_house_data.csv', index_col='id')\n",
    "df.head(2)"
   ]
  },
  {
   "cell_type": "code",
   "execution_count": 3,
   "metadata": {},
   "outputs": [
    {
     "data": {
      "text/plain": [
       "21597"
      ]
     },
     "execution_count": 3,
     "metadata": {},
     "output_type": "execute_result"
    }
   ],
   "source": [
    "len(df)"
   ]
  },
  {
   "cell_type": "markdown",
   "metadata": {},
   "source": [
    "## Drop Duplicates"
   ]
  },
  {
   "cell_type": "code",
   "execution_count": 4,
   "metadata": {},
   "outputs": [
    {
     "data": {
      "text/plain": [
       "0"
      ]
     },
     "execution_count": 4,
     "metadata": {},
     "output_type": "execute_result"
    }
   ],
   "source": [
    "df.duplicated().sum()"
   ]
  },
  {
   "cell_type": "code",
   "execution_count": 5,
   "metadata": {},
   "outputs": [
    {
     "data": {
      "text/plain": [
       "177"
      ]
     },
     "execution_count": 5,
     "metadata": {},
     "output_type": "execute_result"
    }
   ],
   "source": [
    "df.index.duplicated().sum()"
   ]
  },
  {
   "cell_type": "code",
   "execution_count": 6,
   "metadata": {},
   "outputs": [
    {
     "data": {
      "text/html": [
       "<div>\n",
       "<style scoped>\n",
       "    .dataframe tbody tr th:only-of-type {\n",
       "        vertical-align: middle;\n",
       "    }\n",
       "\n",
       "    .dataframe tbody tr th {\n",
       "        vertical-align: top;\n",
       "    }\n",
       "\n",
       "    .dataframe thead th {\n",
       "        text-align: right;\n",
       "    }\n",
       "</style>\n",
       "<table border=\"1\" class=\"dataframe\">\n",
       "  <thead>\n",
       "    <tr style=\"text-align: right;\">\n",
       "      <th></th>\n",
       "      <th>date</th>\n",
       "      <th>price</th>\n",
       "      <th>bedrooms</th>\n",
       "      <th>bathrooms</th>\n",
       "      <th>sqft_living</th>\n",
       "      <th>sqft_lot</th>\n",
       "      <th>floors</th>\n",
       "      <th>waterfront</th>\n",
       "      <th>view</th>\n",
       "      <th>condition</th>\n",
       "      <th>grade</th>\n",
       "      <th>sqft_above</th>\n",
       "      <th>sqft_basement</th>\n",
       "      <th>yr_built</th>\n",
       "      <th>yr_renovated</th>\n",
       "      <th>zipcode</th>\n",
       "      <th>lat</th>\n",
       "      <th>long</th>\n",
       "      <th>sqft_living15</th>\n",
       "      <th>sqft_lot15</th>\n",
       "    </tr>\n",
       "    <tr>\n",
       "      <th>id</th>\n",
       "      <th></th>\n",
       "      <th></th>\n",
       "      <th></th>\n",
       "      <th></th>\n",
       "      <th></th>\n",
       "      <th></th>\n",
       "      <th></th>\n",
       "      <th></th>\n",
       "      <th></th>\n",
       "      <th></th>\n",
       "      <th></th>\n",
       "      <th></th>\n",
       "      <th></th>\n",
       "      <th></th>\n",
       "      <th></th>\n",
       "      <th></th>\n",
       "      <th></th>\n",
       "      <th></th>\n",
       "      <th></th>\n",
       "      <th></th>\n",
       "    </tr>\n",
       "  </thead>\n",
       "  <tbody>\n",
       "    <tr>\n",
       "      <th>6021501535</th>\n",
       "      <td>7/25/2014</td>\n",
       "      <td>430000.0</td>\n",
       "      <td>3</td>\n",
       "      <td>1.50</td>\n",
       "      <td>1580</td>\n",
       "      <td>5000</td>\n",
       "      <td>1.0</td>\n",
       "      <td>0.0</td>\n",
       "      <td>0.0</td>\n",
       "      <td>3</td>\n",
       "      <td>8</td>\n",
       "      <td>1290</td>\n",
       "      <td>290.0</td>\n",
       "      <td>1939</td>\n",
       "      <td>0.0</td>\n",
       "      <td>98117</td>\n",
       "      <td>47.6870</td>\n",
       "      <td>-122.386</td>\n",
       "      <td>1570</td>\n",
       "      <td>4500</td>\n",
       "    </tr>\n",
       "    <tr>\n",
       "      <th>4139480200</th>\n",
       "      <td>6/18/2014</td>\n",
       "      <td>1380000.0</td>\n",
       "      <td>4</td>\n",
       "      <td>3.25</td>\n",
       "      <td>4290</td>\n",
       "      <td>12103</td>\n",
       "      <td>1.0</td>\n",
       "      <td>0.0</td>\n",
       "      <td>3.0</td>\n",
       "      <td>3</td>\n",
       "      <td>11</td>\n",
       "      <td>2690</td>\n",
       "      <td>1600.0</td>\n",
       "      <td>1997</td>\n",
       "      <td>0.0</td>\n",
       "      <td>98006</td>\n",
       "      <td>47.5503</td>\n",
       "      <td>-122.102</td>\n",
       "      <td>3860</td>\n",
       "      <td>11244</td>\n",
       "    </tr>\n",
       "    <tr>\n",
       "      <th>7520000520</th>\n",
       "      <td>9/5/2014</td>\n",
       "      <td>232000.0</td>\n",
       "      <td>2</td>\n",
       "      <td>1.00</td>\n",
       "      <td>1240</td>\n",
       "      <td>12092</td>\n",
       "      <td>1.0</td>\n",
       "      <td>NaN</td>\n",
       "      <td>0.0</td>\n",
       "      <td>3</td>\n",
       "      <td>6</td>\n",
       "      <td>960</td>\n",
       "      <td>280.0</td>\n",
       "      <td>1922</td>\n",
       "      <td>1984.0</td>\n",
       "      <td>98146</td>\n",
       "      <td>47.4957</td>\n",
       "      <td>-122.352</td>\n",
       "      <td>1820</td>\n",
       "      <td>7460</td>\n",
       "    </tr>\n",
       "    <tr>\n",
       "      <th>3969300030</th>\n",
       "      <td>7/23/2014</td>\n",
       "      <td>165000.0</td>\n",
       "      <td>4</td>\n",
       "      <td>1.00</td>\n",
       "      <td>1000</td>\n",
       "      <td>7134</td>\n",
       "      <td>1.0</td>\n",
       "      <td>0.0</td>\n",
       "      <td>0.0</td>\n",
       "      <td>3</td>\n",
       "      <td>6</td>\n",
       "      <td>1000</td>\n",
       "      <td>0.0</td>\n",
       "      <td>1943</td>\n",
       "      <td>0.0</td>\n",
       "      <td>98178</td>\n",
       "      <td>47.4897</td>\n",
       "      <td>-122.240</td>\n",
       "      <td>1020</td>\n",
       "      <td>7138</td>\n",
       "    </tr>\n",
       "    <tr>\n",
       "      <th>2231500030</th>\n",
       "      <td>10/1/2014</td>\n",
       "      <td>315000.0</td>\n",
       "      <td>4</td>\n",
       "      <td>2.25</td>\n",
       "      <td>2180</td>\n",
       "      <td>10754</td>\n",
       "      <td>1.0</td>\n",
       "      <td>NaN</td>\n",
       "      <td>0.0</td>\n",
       "      <td>5</td>\n",
       "      <td>7</td>\n",
       "      <td>1100</td>\n",
       "      <td>1080.0</td>\n",
       "      <td>1954</td>\n",
       "      <td>0.0</td>\n",
       "      <td>98133</td>\n",
       "      <td>47.7711</td>\n",
       "      <td>-122.341</td>\n",
       "      <td>1810</td>\n",
       "      <td>6929</td>\n",
       "    </tr>\n",
       "  </tbody>\n",
       "</table>\n",
       "</div>"
      ],
      "text/plain": [
       "                 date      price  bedrooms  bathrooms  sqft_living  sqft_lot  \\\n",
       "id                                                                             \n",
       "6021501535  7/25/2014   430000.0         3       1.50         1580      5000   \n",
       "4139480200  6/18/2014  1380000.0         4       3.25         4290     12103   \n",
       "7520000520   9/5/2014   232000.0         2       1.00         1240     12092   \n",
       "3969300030  7/23/2014   165000.0         4       1.00         1000      7134   \n",
       "2231500030  10/1/2014   315000.0         4       2.25         2180     10754   \n",
       "\n",
       "            floors  waterfront  view  condition  grade  sqft_above  \\\n",
       "id                                                                   \n",
       "6021501535     1.0         0.0   0.0          3      8        1290   \n",
       "4139480200     1.0         0.0   3.0          3     11        2690   \n",
       "7520000520     1.0         NaN   0.0          3      6         960   \n",
       "3969300030     1.0         0.0   0.0          3      6        1000   \n",
       "2231500030     1.0         NaN   0.0          5      7        1100   \n",
       "\n",
       "           sqft_basement  yr_built  yr_renovated  zipcode      lat     long  \\\n",
       "id                                                                            \n",
       "6021501535         290.0      1939           0.0    98117  47.6870 -122.386   \n",
       "4139480200        1600.0      1997           0.0    98006  47.5503 -122.102   \n",
       "7520000520         280.0      1922        1984.0    98146  47.4957 -122.352   \n",
       "3969300030           0.0      1943           0.0    98178  47.4897 -122.240   \n",
       "2231500030        1080.0      1954           0.0    98133  47.7711 -122.341   \n",
       "\n",
       "            sqft_living15  sqft_lot15  \n",
       "id                                     \n",
       "6021501535           1570        4500  \n",
       "4139480200           3860       11244  \n",
       "7520000520           1820        7460  \n",
       "3969300030           1020        7138  \n",
       "2231500030           1810        6929  "
      ]
     },
     "execution_count": 6,
     "metadata": {},
     "output_type": "execute_result"
    }
   ],
   "source": [
    "df[df.index.duplicated(keep='last')].head()"
   ]
  },
  {
   "cell_type": "code",
   "execution_count": 7,
   "metadata": {},
   "outputs": [
    {
     "data": {
      "text/html": [
       "<div>\n",
       "<style scoped>\n",
       "    .dataframe tbody tr th:only-of-type {\n",
       "        vertical-align: middle;\n",
       "    }\n",
       "\n",
       "    .dataframe tbody tr th {\n",
       "        vertical-align: top;\n",
       "    }\n",
       "\n",
       "    .dataframe thead th {\n",
       "        text-align: right;\n",
       "    }\n",
       "</style>\n",
       "<table border=\"1\" class=\"dataframe\">\n",
       "  <thead>\n",
       "    <tr style=\"text-align: right;\">\n",
       "      <th></th>\n",
       "      <th>date</th>\n",
       "      <th>price</th>\n",
       "      <th>bedrooms</th>\n",
       "      <th>bathrooms</th>\n",
       "      <th>sqft_living</th>\n",
       "      <th>sqft_lot</th>\n",
       "      <th>floors</th>\n",
       "      <th>waterfront</th>\n",
       "      <th>view</th>\n",
       "      <th>condition</th>\n",
       "      <th>grade</th>\n",
       "      <th>sqft_above</th>\n",
       "      <th>sqft_basement</th>\n",
       "      <th>yr_built</th>\n",
       "      <th>yr_renovated</th>\n",
       "      <th>zipcode</th>\n",
       "      <th>lat</th>\n",
       "      <th>long</th>\n",
       "      <th>sqft_living15</th>\n",
       "      <th>sqft_lot15</th>\n",
       "    </tr>\n",
       "    <tr>\n",
       "      <th>id</th>\n",
       "      <th></th>\n",
       "      <th></th>\n",
       "      <th></th>\n",
       "      <th></th>\n",
       "      <th></th>\n",
       "      <th></th>\n",
       "      <th></th>\n",
       "      <th></th>\n",
       "      <th></th>\n",
       "      <th></th>\n",
       "      <th></th>\n",
       "      <th></th>\n",
       "      <th></th>\n",
       "      <th></th>\n",
       "      <th></th>\n",
       "      <th></th>\n",
       "      <th></th>\n",
       "      <th></th>\n",
       "      <th></th>\n",
       "      <th></th>\n",
       "    </tr>\n",
       "  </thead>\n",
       "  <tbody>\n",
       "    <tr>\n",
       "      <th>7129300520</th>\n",
       "      <td>10/13/2014</td>\n",
       "      <td>221900.0</td>\n",
       "      <td>3</td>\n",
       "      <td>1.00</td>\n",
       "      <td>1180</td>\n",
       "      <td>5650</td>\n",
       "      <td>1.0</td>\n",
       "      <td>NaN</td>\n",
       "      <td>0.0</td>\n",
       "      <td>3</td>\n",
       "      <td>7</td>\n",
       "      <td>1180</td>\n",
       "      <td>0.0</td>\n",
       "      <td>1955</td>\n",
       "      <td>0.0</td>\n",
       "      <td>98178</td>\n",
       "      <td>47.5112</td>\n",
       "      <td>-122.257</td>\n",
       "      <td>1340</td>\n",
       "      <td>5650</td>\n",
       "    </tr>\n",
       "    <tr>\n",
       "      <th>6414100192</th>\n",
       "      <td>12/9/2014</td>\n",
       "      <td>538000.0</td>\n",
       "      <td>3</td>\n",
       "      <td>2.25</td>\n",
       "      <td>2570</td>\n",
       "      <td>7242</td>\n",
       "      <td>2.0</td>\n",
       "      <td>0.0</td>\n",
       "      <td>0.0</td>\n",
       "      <td>3</td>\n",
       "      <td>7</td>\n",
       "      <td>2170</td>\n",
       "      <td>400.0</td>\n",
       "      <td>1951</td>\n",
       "      <td>1991.0</td>\n",
       "      <td>98125</td>\n",
       "      <td>47.7210</td>\n",
       "      <td>-122.319</td>\n",
       "      <td>1690</td>\n",
       "      <td>7639</td>\n",
       "    </tr>\n",
       "    <tr>\n",
       "      <th>5631500400</th>\n",
       "      <td>2/25/2015</td>\n",
       "      <td>180000.0</td>\n",
       "      <td>2</td>\n",
       "      <td>1.00</td>\n",
       "      <td>770</td>\n",
       "      <td>10000</td>\n",
       "      <td>1.0</td>\n",
       "      <td>0.0</td>\n",
       "      <td>0.0</td>\n",
       "      <td>3</td>\n",
       "      <td>6</td>\n",
       "      <td>770</td>\n",
       "      <td>0.0</td>\n",
       "      <td>1933</td>\n",
       "      <td>NaN</td>\n",
       "      <td>98028</td>\n",
       "      <td>47.7379</td>\n",
       "      <td>-122.233</td>\n",
       "      <td>2720</td>\n",
       "      <td>8062</td>\n",
       "    </tr>\n",
       "    <tr>\n",
       "      <th>2487200875</th>\n",
       "      <td>12/9/2014</td>\n",
       "      <td>604000.0</td>\n",
       "      <td>4</td>\n",
       "      <td>3.00</td>\n",
       "      <td>1960</td>\n",
       "      <td>5000</td>\n",
       "      <td>1.0</td>\n",
       "      <td>0.0</td>\n",
       "      <td>0.0</td>\n",
       "      <td>5</td>\n",
       "      <td>7</td>\n",
       "      <td>1050</td>\n",
       "      <td>910.0</td>\n",
       "      <td>1965</td>\n",
       "      <td>0.0</td>\n",
       "      <td>98136</td>\n",
       "      <td>47.5208</td>\n",
       "      <td>-122.393</td>\n",
       "      <td>1360</td>\n",
       "      <td>5000</td>\n",
       "    </tr>\n",
       "    <tr>\n",
       "      <th>1954400510</th>\n",
       "      <td>2/18/2015</td>\n",
       "      <td>510000.0</td>\n",
       "      <td>3</td>\n",
       "      <td>2.00</td>\n",
       "      <td>1680</td>\n",
       "      <td>8080</td>\n",
       "      <td>1.0</td>\n",
       "      <td>0.0</td>\n",
       "      <td>0.0</td>\n",
       "      <td>3</td>\n",
       "      <td>8</td>\n",
       "      <td>1680</td>\n",
       "      <td>0.0</td>\n",
       "      <td>1987</td>\n",
       "      <td>0.0</td>\n",
       "      <td>98074</td>\n",
       "      <td>47.6168</td>\n",
       "      <td>-122.045</td>\n",
       "      <td>1800</td>\n",
       "      <td>7503</td>\n",
       "    </tr>\n",
       "  </tbody>\n",
       "</table>\n",
       "</div>"
      ],
      "text/plain": [
       "                  date     price  bedrooms  bathrooms  sqft_living  sqft_lot  \\\n",
       "id                                                                             \n",
       "7129300520  10/13/2014  221900.0         3       1.00         1180      5650   \n",
       "6414100192   12/9/2014  538000.0         3       2.25         2570      7242   \n",
       "5631500400   2/25/2015  180000.0         2       1.00          770     10000   \n",
       "2487200875   12/9/2014  604000.0         4       3.00         1960      5000   \n",
       "1954400510   2/18/2015  510000.0         3       2.00         1680      8080   \n",
       "\n",
       "            floors  waterfront  view  condition  grade  sqft_above  \\\n",
       "id                                                                   \n",
       "7129300520     1.0         NaN   0.0          3      7        1180   \n",
       "6414100192     2.0         0.0   0.0          3      7        2170   \n",
       "5631500400     1.0         0.0   0.0          3      6         770   \n",
       "2487200875     1.0         0.0   0.0          5      7        1050   \n",
       "1954400510     1.0         0.0   0.0          3      8        1680   \n",
       "\n",
       "           sqft_basement  yr_built  yr_renovated  zipcode      lat     long  \\\n",
       "id                                                                            \n",
       "7129300520           0.0      1955           0.0    98178  47.5112 -122.257   \n",
       "6414100192         400.0      1951        1991.0    98125  47.7210 -122.319   \n",
       "5631500400           0.0      1933           NaN    98028  47.7379 -122.233   \n",
       "2487200875         910.0      1965           0.0    98136  47.5208 -122.393   \n",
       "1954400510           0.0      1987           0.0    98074  47.6168 -122.045   \n",
       "\n",
       "            sqft_living15  sqft_lot15  \n",
       "id                                     \n",
       "7129300520           1340        5650  \n",
       "6414100192           1690        7639  \n",
       "5631500400           2720        8062  \n",
       "2487200875           1360        5000  \n",
       "1954400510           1800        7503  "
      ]
     },
     "execution_count": 7,
     "metadata": {},
     "output_type": "execute_result"
    }
   ],
   "source": [
    "# Duplicates are houses that sold twice in a year.  Drop the first.\n",
    "df = df[~df.index.duplicated(keep='last')]\n",
    "df.head()"
   ]
  },
  {
   "cell_type": "code",
   "execution_count": 8,
   "metadata": {},
   "outputs": [
    {
     "data": {
      "text/plain": [
       "21420"
      ]
     },
     "execution_count": 8,
     "metadata": {},
     "output_type": "execute_result"
    }
   ],
   "source": [
    "len(df)"
   ]
  },
  {
   "cell_type": "markdown",
   "metadata": {},
   "source": [
    "## missing values"
   ]
  },
  {
   "cell_type": "code",
   "execution_count": 9,
   "metadata": {},
   "outputs": [
    {
     "data": {
      "text/plain": [
       "date                0\n",
       "price               0\n",
       "bedrooms            0\n",
       "bathrooms           0\n",
       "sqft_living         0\n",
       "sqft_lot            0\n",
       "floors              0\n",
       "waterfront       2353\n",
       "view               63\n",
       "condition           0\n",
       "grade               0\n",
       "sqft_above          0\n",
       "sqft_basement       0\n",
       "yr_built            0\n",
       "yr_renovated     3813\n",
       "zipcode             0\n",
       "lat                 0\n",
       "long                0\n",
       "sqft_living15       0\n",
       "sqft_lot15          0\n",
       "dtype: int64"
      ]
     },
     "execution_count": 9,
     "metadata": {},
     "output_type": "execute_result"
    }
   ],
   "source": [
    "df.isna().sum()"
   ]
  },
  {
   "cell_type": "markdown",
   "metadata": {},
   "source": [
    "#### waterfront"
   ]
  },
  {
   "cell_type": "code",
   "execution_count": 10,
   "metadata": {},
   "outputs": [
    {
     "data": {
      "text/plain": [
       "0.0    18921\n",
       "1.0      146\n",
       "Name: waterfront, dtype: int64"
      ]
     },
     "execution_count": 10,
     "metadata": {},
     "output_type": "execute_result"
    }
   ],
   "source": [
    "df.waterfront.value_counts()"
   ]
  },
  {
   "cell_type": "code",
   "execution_count": 11,
   "metadata": {},
   "outputs": [],
   "source": [
    "# Fill waterfront Nan with 0 (the median)\n",
    "df['waterfront'] = df['waterfront'].fillna(0)"
   ]
  },
  {
   "cell_type": "code",
   "execution_count": 12,
   "metadata": {},
   "outputs": [
    {
     "data": {
      "text/plain": [
       "0"
      ]
     },
     "execution_count": 12,
     "metadata": {},
     "output_type": "execute_result"
    }
   ],
   "source": [
    "df['waterfront'].isna().sum()"
   ]
  },
  {
   "cell_type": "markdown",
   "metadata": {},
   "source": [
    "#### view"
   ]
  },
  {
   "cell_type": "code",
   "execution_count": 13,
   "metadata": {},
   "outputs": [
    {
     "data": {
      "text/plain": [
       "0.0    19253\n",
       "2.0      956\n",
       "3.0      505\n",
       "1.0      329\n",
       "4.0      314\n",
       "Name: view, dtype: int64"
      ]
     },
     "execution_count": 13,
     "metadata": {},
     "output_type": "execute_result"
    }
   ],
   "source": [
    "df.view.value_counts()"
   ]
  },
  {
   "cell_type": "code",
   "execution_count": 14,
   "metadata": {},
   "outputs": [
    {
     "data": {
      "text/plain": [
       "63"
      ]
     },
     "execution_count": 14,
     "metadata": {},
     "output_type": "execute_result"
    }
   ],
   "source": [
    "df.view.isna().sum()"
   ]
  },
  {
   "cell_type": "code",
   "execution_count": 15,
   "metadata": {},
   "outputs": [],
   "source": [
    "# Fill with 0 which is far more than half the values\n",
    "df['view'] = df['view'].fillna(0)"
   ]
  },
  {
   "cell_type": "code",
   "execution_count": 16,
   "metadata": {},
   "outputs": [
    {
     "data": {
      "text/plain": [
       "0"
      ]
     },
     "execution_count": 16,
     "metadata": {},
     "output_type": "execute_result"
    }
   ],
   "source": [
    "df['view'].isna().sum()"
   ]
  },
  {
   "cell_type": "markdown",
   "metadata": {},
   "source": [
    "#### yr_renovated"
   ]
  },
  {
   "cell_type": "code",
   "execution_count": 17,
   "metadata": {},
   "outputs": [
    {
     "data": {
      "text/plain": [
       "0.0       16867\n",
       "2014.0       73\n",
       "2003.0       31\n",
       "2013.0       31\n",
       "2007.0       30\n",
       "Name: yr_renovated, dtype: int64"
      ]
     },
     "execution_count": 17,
     "metadata": {},
     "output_type": "execute_result"
    }
   ],
   "source": [
    "df['yr_renovated'].value_counts().head()"
   ]
  },
  {
   "cell_type": "code",
   "execution_count": 18,
   "metadata": {},
   "outputs": [
    {
     "data": {
      "text/plain": [
       "3813"
      ]
     },
     "execution_count": 18,
     "metadata": {},
     "output_type": "execute_result"
    }
   ],
   "source": [
    "df['yr_renovated'].isna().sum()"
   ]
  },
  {
   "cell_type": "code",
   "execution_count": 19,
   "metadata": {},
   "outputs": [
    {
     "data": {
      "text/plain": [
       "0.0"
      ]
     },
     "execution_count": 19,
     "metadata": {},
     "output_type": "execute_result"
    }
   ],
   "source": [
    "df['yr_renovated'].median()"
   ]
  },
  {
   "cell_type": "code",
   "execution_count": 20,
   "metadata": {},
   "outputs": [],
   "source": [
    "# fill with 0 which seems to have the same meaning, no renovation and is also the median of the sample."
   ]
  },
  {
   "cell_type": "code",
   "execution_count": 21,
   "metadata": {},
   "outputs": [],
   "source": [
    "df['yr_renovated'] = df['yr_renovated'].fillna(0)"
   ]
  },
  {
   "cell_type": "code",
   "execution_count": 22,
   "metadata": {},
   "outputs": [
    {
     "data": {
      "text/plain": [
       "0"
      ]
     },
     "execution_count": 22,
     "metadata": {},
     "output_type": "execute_result"
    }
   ],
   "source": [
    "df['yr_renovated'].isna().sum()"
   ]
  },
  {
   "cell_type": "markdown",
   "metadata": {},
   "source": [
    "### Recheck Nan values"
   ]
  },
  {
   "cell_type": "code",
   "execution_count": 23,
   "metadata": {},
   "outputs": [
    {
     "data": {
      "text/plain": [
       "date             0\n",
       "price            0\n",
       "bedrooms         0\n",
       "bathrooms        0\n",
       "sqft_living      0\n",
       "sqft_lot         0\n",
       "floors           0\n",
       "waterfront       0\n",
       "view             0\n",
       "condition        0\n",
       "grade            0\n",
       "sqft_above       0\n",
       "sqft_basement    0\n",
       "yr_built         0\n",
       "yr_renovated     0\n",
       "zipcode          0\n",
       "lat              0\n",
       "long             0\n",
       "sqft_living15    0\n",
       "sqft_lot15       0\n",
       "dtype: int64"
      ]
     },
     "execution_count": 23,
     "metadata": {},
     "output_type": "execute_result"
    }
   ],
   "source": [
    "df.isna().sum()"
   ]
  },
  {
   "cell_type": "markdown",
   "metadata": {},
   "source": [
    "## Create Usable (not necessarily final) datatypes"
   ]
  },
  {
   "cell_type": "code",
   "execution_count": 24,
   "metadata": {},
   "outputs": [
    {
     "name": "stdout",
     "output_type": "stream",
     "text": [
      "<class 'pandas.core.frame.DataFrame'>\n",
      "Int64Index: 21420 entries, 7129300520 to 1523300157\n",
      "Data columns (total 20 columns):\n",
      " #   Column         Non-Null Count  Dtype  \n",
      "---  ------         --------------  -----  \n",
      " 0   date           21420 non-null  object \n",
      " 1   price          21420 non-null  float64\n",
      " 2   bedrooms       21420 non-null  int64  \n",
      " 3   bathrooms      21420 non-null  float64\n",
      " 4   sqft_living    21420 non-null  int64  \n",
      " 5   sqft_lot       21420 non-null  int64  \n",
      " 6   floors         21420 non-null  float64\n",
      " 7   waterfront     21420 non-null  float64\n",
      " 8   view           21420 non-null  float64\n",
      " 9   condition      21420 non-null  int64  \n",
      " 10  grade          21420 non-null  int64  \n",
      " 11  sqft_above     21420 non-null  int64  \n",
      " 12  sqft_basement  21420 non-null  object \n",
      " 13  yr_built       21420 non-null  int64  \n",
      " 14  yr_renovated   21420 non-null  float64\n",
      " 15  zipcode        21420 non-null  int64  \n",
      " 16  lat            21420 non-null  float64\n",
      " 17  long           21420 non-null  float64\n",
      " 18  sqft_living15  21420 non-null  int64  \n",
      " 19  sqft_lot15     21420 non-null  int64  \n",
      "dtypes: float64(8), int64(10), object(2)\n",
      "memory usage: 3.4+ MB\n"
     ]
    }
   ],
   "source": [
    "df.info()"
   ]
  },
  {
   "cell_type": "markdown",
   "metadata": {},
   "source": [
    "### Drop date (look for trend later if there is time)\n",
    "Date is not usable in an obvious way.  If there is time we can try to see if it improves one of our final models.  For now drop it."
   ]
  },
  {
   "cell_type": "code",
   "execution_count": 25,
   "metadata": {},
   "outputs": [],
   "source": [
    "df.drop(columns=['date'], inplace=True)"
   ]
  },
  {
   "cell_type": "markdown",
   "metadata": {},
   "source": [
    "### sqft_basement"
   ]
  },
  {
   "cell_type": "code",
   "execution_count": 26,
   "metadata": {},
   "outputs": [
    {
     "data": {
      "text/plain": [
       "0.0      0.593651\n",
       "?        0.021102\n",
       "600.0    0.010084\n",
       "700.0    0.009617\n",
       "500.0    0.009617\n",
       "Name: sqft_basement, dtype: float64"
      ]
     },
     "execution_count": 26,
     "metadata": {},
     "output_type": "execute_result"
    }
   ],
   "source": [
    "# why is the dtype object\n",
    "df['sqft_basement'].value_counts(normalize = True).head()"
   ]
  },
  {
   "cell_type": "code",
   "execution_count": 27,
   "metadata": {},
   "outputs": [
    {
     "data": {
      "text/plain": [
       "0      13168\n",
       "600      216\n",
       "700      206\n",
       "500      206\n",
       "800      201\n",
       "Name: sqft_basement, dtype: int64"
      ]
     },
     "execution_count": 27,
     "metadata": {},
     "output_type": "execute_result"
    }
   ],
   "source": [
    "# Replace the question mark with the median (0 because more than 50% of records are 0)\n",
    "df['sqft_basement'] = df['sqft_basement'].str.replace('?', '0.0')\n",
    "df['sqft_basement'] = df['sqft_basement'].astype(float).astype(int)\n",
    "df['sqft_basement'].value_counts().head()"
   ]
  },
  {
   "cell_type": "markdown",
   "metadata": {},
   "source": [
    "## Baseline Model"
   ]
  },
  {
   "cell_type": "code",
   "execution_count": 28,
   "metadata": {},
   "outputs": [
    {
     "data": {
      "text/html": [
       "<table class=\"simpletable\">\n",
       "<caption>OLS Regression Results</caption>\n",
       "<tr>\n",
       "  <th>Dep. Variable:</th>          <td>price</td>      <th>  R-squared (uncentered):</th>       <td>   0.905</td>  \n",
       "</tr>\n",
       "<tr>\n",
       "  <th>Model:</th>                   <td>OLS</td>       <th>  Adj. R-squared (uncentered):</th>  <td>   0.905</td>  \n",
       "</tr>\n",
       "<tr>\n",
       "  <th>Method:</th>             <td>Least Squares</td>  <th>  F-statistic:       </th>           <td>1.138e+04</td> \n",
       "</tr>\n",
       "<tr>\n",
       "  <th>Date:</th>             <td>Sun, 10 Jan 2021</td> <th>  Prob (F-statistic):</th>            <td>  0.00</td>   \n",
       "</tr>\n",
       "<tr>\n",
       "  <th>Time:</th>                 <td>00:45:26</td>     <th>  Log-Likelihood:    </th>          <td>-2.9200e+05</td>\n",
       "</tr>\n",
       "<tr>\n",
       "  <th>No. Observations:</th>      <td> 21420</td>      <th>  AIC:               </th>           <td>5.840e+05</td> \n",
       "</tr>\n",
       "<tr>\n",
       "  <th>Df Residuals:</th>          <td> 21402</td>      <th>  BIC:               </th>           <td>5.842e+05</td> \n",
       "</tr>\n",
       "<tr>\n",
       "  <th>Df Model:</th>              <td>    18</td>      <th>                     </th>               <td> </td>     \n",
       "</tr>\n",
       "<tr>\n",
       "  <th>Covariance Type:</th>      <td>nonrobust</td>    <th>                     </th>               <td> </td>     \n",
       "</tr>\n",
       "</table>\n",
       "<table class=\"simpletable\">\n",
       "<tr>\n",
       "        <td></td>           <th>coef</th>     <th>std err</th>      <th>t</th>      <th>P>|t|</th>  <th>[0.025</th>    <th>0.975]</th>  \n",
       "</tr>\n",
       "<tr>\n",
       "  <th>bedrooms</th>      <td>-3.564e+04</td> <td> 1910.423</td> <td>  -18.657</td> <td> 0.000</td> <td>-3.94e+04</td> <td>-3.19e+04</td>\n",
       "</tr>\n",
       "<tr>\n",
       "  <th>bathrooms</th>     <td> 4.211e+04</td> <td> 3281.141</td> <td>   12.834</td> <td> 0.000</td> <td> 3.57e+04</td> <td> 4.85e+04</td>\n",
       "</tr>\n",
       "<tr>\n",
       "  <th>sqft_living</th>   <td>  102.1381</td> <td>   18.129</td> <td>    5.634</td> <td> 0.000</td> <td>   66.604</td> <td>  137.672</td>\n",
       "</tr>\n",
       "<tr>\n",
       "  <th>sqft_lot</th>      <td>    0.1307</td> <td>    0.048</td> <td>    2.724</td> <td> 0.006</td> <td>    0.037</td> <td>    0.225</td>\n",
       "</tr>\n",
       "<tr>\n",
       "  <th>floors</th>        <td> 5325.8166</td> <td> 3559.536</td> <td>    1.496</td> <td> 0.135</td> <td>-1651.141</td> <td> 1.23e+04</td>\n",
       "</tr>\n",
       "<tr>\n",
       "  <th>waterfront</th>    <td> 6.182e+05</td> <td> 1.82e+04</td> <td>   34.028</td> <td> 0.000</td> <td> 5.83e+05</td> <td> 6.54e+05</td>\n",
       "</tr>\n",
       "<tr>\n",
       "  <th>view</th>          <td> 5.264e+04</td> <td> 2119.410</td> <td>   24.839</td> <td> 0.000</td> <td> 4.85e+04</td> <td> 5.68e+04</td>\n",
       "</tr>\n",
       "<tr>\n",
       "  <th>condition</th>     <td>  2.74e+04</td> <td> 2337.968</td> <td>   11.720</td> <td> 0.000</td> <td> 2.28e+04</td> <td>  3.2e+04</td>\n",
       "</tr>\n",
       "<tr>\n",
       "  <th>grade</th>         <td> 9.658e+04</td> <td> 2164.453</td> <td>   44.620</td> <td> 0.000</td> <td> 9.23e+04</td> <td> 1.01e+05</td>\n",
       "</tr>\n",
       "<tr>\n",
       "  <th>sqft_above</th>    <td>   79.1256</td> <td>   18.114</td> <td>    4.368</td> <td> 0.000</td> <td>   43.621</td> <td>  114.630</td>\n",
       "</tr>\n",
       "<tr>\n",
       "  <th>sqft_basement</th> <td>   47.8199</td> <td>   17.962</td> <td>    2.662</td> <td> 0.008</td> <td>   12.613</td> <td>   83.027</td>\n",
       "</tr>\n",
       "<tr>\n",
       "  <th>yr_built</th>      <td>-2595.4401</td> <td>   67.748</td> <td>  -38.310</td> <td> 0.000</td> <td>-2728.231</td> <td>-2462.650</td>\n",
       "</tr>\n",
       "<tr>\n",
       "  <th>yr_renovated</th>  <td>   24.0633</td> <td>    3.988</td> <td>    6.034</td> <td> 0.000</td> <td>   16.247</td> <td>   31.879</td>\n",
       "</tr>\n",
       "<tr>\n",
       "  <th>zipcode</th>       <td> -521.5569</td> <td>   17.936</td> <td>  -29.078</td> <td> 0.000</td> <td> -556.714</td> <td> -486.400</td>\n",
       "</tr>\n",
       "<tr>\n",
       "  <th>lat</th>           <td>  6.01e+05</td> <td> 1.08e+04</td> <td>   55.725</td> <td> 0.000</td> <td>  5.8e+05</td> <td> 6.22e+05</td>\n",
       "</tr>\n",
       "<tr>\n",
       "  <th>long</th>          <td>-2.208e+05</td> <td> 1.32e+04</td> <td>  -16.791</td> <td> 0.000</td> <td>-2.47e+05</td> <td>-1.95e+05</td>\n",
       "</tr>\n",
       "<tr>\n",
       "  <th>sqft_living15</th> <td>   22.3627</td> <td>    3.408</td> <td>    6.561</td> <td> 0.000</td> <td>   15.682</td> <td>   29.043</td>\n",
       "</tr>\n",
       "<tr>\n",
       "  <th>sqft_lot15</th>    <td>   -0.3799</td> <td>    0.073</td> <td>   -5.172</td> <td> 0.000</td> <td>   -0.524</td> <td>   -0.236</td>\n",
       "</tr>\n",
       "</table>\n",
       "<table class=\"simpletable\">\n",
       "<tr>\n",
       "  <th>Omnibus:</th>       <td>18225.360</td> <th>  Durbin-Watson:     </th>  <td>   1.997</td>  \n",
       "</tr>\n",
       "<tr>\n",
       "  <th>Prob(Omnibus):</th>  <td> 0.000</td>   <th>  Jarque-Bera (JB):  </th> <td>1826503.973</td>\n",
       "</tr>\n",
       "<tr>\n",
       "  <th>Skew:</th>           <td> 3.573</td>   <th>  Prob(JB):          </th>  <td>    0.00</td>  \n",
       "</tr>\n",
       "<tr>\n",
       "  <th>Kurtosis:</th>       <td>47.670</td>   <th>  Cond. No.          </th>  <td>1.33e+06</td>  \n",
       "</tr>\n",
       "</table><br/><br/>Warnings:<br/>[1] Standard Errors assume that the covariance matrix of the errors is correctly specified.<br/>[2] The condition number is large, 1.33e+06. This might indicate that there are<br/>strong multicollinearity or other numerical problems."
      ],
      "text/plain": [
       "<class 'statsmodels.iolib.summary.Summary'>\n",
       "\"\"\"\n",
       "                                 OLS Regression Results                                \n",
       "=======================================================================================\n",
       "Dep. Variable:                  price   R-squared (uncentered):                   0.905\n",
       "Model:                            OLS   Adj. R-squared (uncentered):              0.905\n",
       "Method:                 Least Squares   F-statistic:                          1.138e+04\n",
       "Date:                Sun, 10 Jan 2021   Prob (F-statistic):                        0.00\n",
       "Time:                        00:45:26   Log-Likelihood:                     -2.9200e+05\n",
       "No. Observations:               21420   AIC:                                  5.840e+05\n",
       "Df Residuals:                   21402   BIC:                                  5.842e+05\n",
       "Df Model:                          18                                                  \n",
       "Covariance Type:            nonrobust                                                  \n",
       "=================================================================================\n",
       "                    coef    std err          t      P>|t|      [0.025      0.975]\n",
       "---------------------------------------------------------------------------------\n",
       "bedrooms      -3.564e+04   1910.423    -18.657      0.000   -3.94e+04   -3.19e+04\n",
       "bathrooms      4.211e+04   3281.141     12.834      0.000    3.57e+04    4.85e+04\n",
       "sqft_living     102.1381     18.129      5.634      0.000      66.604     137.672\n",
       "sqft_lot          0.1307      0.048      2.724      0.006       0.037       0.225\n",
       "floors         5325.8166   3559.536      1.496      0.135   -1651.141    1.23e+04\n",
       "waterfront     6.182e+05   1.82e+04     34.028      0.000    5.83e+05    6.54e+05\n",
       "view           5.264e+04   2119.410     24.839      0.000    4.85e+04    5.68e+04\n",
       "condition       2.74e+04   2337.968     11.720      0.000    2.28e+04     3.2e+04\n",
       "grade          9.658e+04   2164.453     44.620      0.000    9.23e+04    1.01e+05\n",
       "sqft_above       79.1256     18.114      4.368      0.000      43.621     114.630\n",
       "sqft_basement    47.8199     17.962      2.662      0.008      12.613      83.027\n",
       "yr_built      -2595.4401     67.748    -38.310      0.000   -2728.231   -2462.650\n",
       "yr_renovated     24.0633      3.988      6.034      0.000      16.247      31.879\n",
       "zipcode        -521.5569     17.936    -29.078      0.000    -556.714    -486.400\n",
       "lat             6.01e+05   1.08e+04     55.725      0.000     5.8e+05    6.22e+05\n",
       "long          -2.208e+05   1.32e+04    -16.791      0.000   -2.47e+05   -1.95e+05\n",
       "sqft_living15    22.3627      3.408      6.561      0.000      15.682      29.043\n",
       "sqft_lot15       -0.3799      0.073     -5.172      0.000      -0.524      -0.236\n",
       "==============================================================================\n",
       "Omnibus:                    18225.360   Durbin-Watson:                   1.997\n",
       "Prob(Omnibus):                  0.000   Jarque-Bera (JB):          1826503.973\n",
       "Skew:                           3.573   Prob(JB):                         0.00\n",
       "Kurtosis:                      47.670   Cond. No.                     1.33e+06\n",
       "==============================================================================\n",
       "\n",
       "Warnings:\n",
       "[1] Standard Errors assume that the covariance matrix of the errors is correctly specified.\n",
       "[2] The condition number is large, 1.33e+06. This might indicate that there are\n",
       "strong multicollinearity or other numerical problems.\n",
       "\"\"\""
      ]
     },
     "execution_count": 28,
     "metadata": {},
     "output_type": "execute_result"
    }
   ],
   "source": [
    "X = df.drop('price', axis=1)\n",
    "y = df['price']\n",
    "\n",
    "model = sm.OLS(y, X).fit()\n",
    "model.summary()"
   ]
  },
  {
   "cell_type": "markdown",
   "metadata": {},
   "source": [
    "# Tools"
   ]
  },
  {
   "cell_type": "code",
   "execution_count": 29,
   "metadata": {},
   "outputs": [],
   "source": [
    "def cross_validate_rmse(X, y, cv=5):\n",
    "    '''Returnes Test RMSE, Train RMSE'''\n",
    "    linreg = LinearRegression()\n",
    "\n",
    "    mse = make_scorer(mean_squared_error)\n",
    "    cvs = cross_validate(linreg, X, y, cv=5,    \n",
    "                          scoring=mse, return_train_score=True)\n",
    "    \n",
    "    train_rmse = np.sqrt(cvs['train_score']).mean()\n",
    "    test_rmse= np.sqrt(cvs['test_score']).mean()\n",
    "    return  train_rmse, test_rmse, test_rmse - train_rmse"
   ]
  },
  {
   "cell_type": "code",
   "execution_count": 30,
   "metadata": {},
   "outputs": [
    {
     "data": {
      "text/plain": [
       "(201209.51242025438, 202862.45144721467, 1652.9390269602882)"
      ]
     },
     "execution_count": 30,
     "metadata": {},
     "output_type": "execute_result"
    }
   ],
   "source": [
    "## Test it on the baseline model\n",
    "cross_validate_rmse(X, y)"
   ]
  },
  {
   "cell_type": "code",
   "execution_count": 31,
   "metadata": {},
   "outputs": [],
   "source": [
    "# a quick way to run a model, perform crossfold validation and get the results.\n",
    "\n",
    "models = {}\n",
    "def quicktest(X, y, name=None):\n",
    "    \n",
    "    rmses = cross_validate_rmse(X, y)\n",
    "                        \n",
    "    model = sm.OLS(y, X).fit()\n",
    "                            \n",
    "    summary = {'r2_adjusted': model.rsquared_adj,\n",
    "               'train_rmse': rmses[0], \n",
    "               'test_rmse': rmses[1], \n",
    "               'diff_rmse': rmses[2]}\n",
    "    \n",
    "    if name is not None:\n",
    "        models[name] = summary\n",
    "        \n",
    "    return summary\n",
    "    "
   ]
  },
  {
   "cell_type": "code",
   "execution_count": 32,
   "metadata": {},
   "outputs": [
    {
     "data": {
      "text/plain": [
       "{'r2_adjusted': 0.9052887130083702,\n",
       " 'train_rmse': 201209.51242025438,\n",
       " 'test_rmse': 202862.45144721467,\n",
       " 'diff_rmse': 1652.9390269602882}"
      ]
     },
     "execution_count": 32,
     "metadata": {},
     "output_type": "execute_result"
    }
   ],
   "source": [
    "quicktest(X, y, name='baseline')"
   ]
  },
  {
   "cell_type": "code",
   "execution_count": 33,
   "metadata": {},
   "outputs": [],
   "source": [
    "# pretty print the models and sort by rmse\n",
    "\n",
    "def model_report():\n",
    "    df = pd.DataFrame(models).T\n",
    "    df.columns = ['r2_adjusted','test_rmse','train_rmse','diff_rmse']\n",
    "    df.sort_values(by='r2_adjusted')\n",
    "    return df"
   ]
  },
  {
   "cell_type": "code",
   "execution_count": 34,
   "metadata": {},
   "outputs": [
    {
     "data": {
      "text/html": [
       "<div>\n",
       "<style scoped>\n",
       "    .dataframe tbody tr th:only-of-type {\n",
       "        vertical-align: middle;\n",
       "    }\n",
       "\n",
       "    .dataframe tbody tr th {\n",
       "        vertical-align: top;\n",
       "    }\n",
       "\n",
       "    .dataframe thead th {\n",
       "        text-align: right;\n",
       "    }\n",
       "</style>\n",
       "<table border=\"1\" class=\"dataframe\">\n",
       "  <thead>\n",
       "    <tr style=\"text-align: right;\">\n",
       "      <th></th>\n",
       "      <th>r2_adjusted</th>\n",
       "      <th>test_rmse</th>\n",
       "      <th>train_rmse</th>\n",
       "      <th>diff_rmse</th>\n",
       "    </tr>\n",
       "  </thead>\n",
       "  <tbody>\n",
       "    <tr>\n",
       "      <th>baseline</th>\n",
       "      <td>1652.939027</td>\n",
       "      <td>0.905289</td>\n",
       "      <td>202862.451447</td>\n",
       "      <td>201209.51242</td>\n",
       "    </tr>\n",
       "  </tbody>\n",
       "</table>\n",
       "</div>"
      ],
      "text/plain": [
       "          r2_adjusted  test_rmse     train_rmse     diff_rmse\n",
       "baseline  1652.939027   0.905289  202862.451447  201209.51242"
      ]
     },
     "execution_count": 34,
     "metadata": {},
     "output_type": "execute_result"
    }
   ],
   "source": [
    "model_report()"
   ]
  },
  {
   "cell_type": "markdown",
   "metadata": {},
   "source": [
    "# Iterate the model\n",
    "\n",
    "Create a new model based on modifications to individual variables.  Use a new df each iteration so we don't have to re-run the whole notebook after any errors."
   ]
  },
  {
   "cell_type": "markdown",
   "metadata": {},
   "source": [
    "## bedrooms"
   ]
  },
  {
   "cell_type": "code",
   "execution_count": 35,
   "metadata": {},
   "outputs": [],
   "source": [
    "beds = df.copy()"
   ]
  },
  {
   "cell_type": "code",
   "execution_count": 36,
   "metadata": {},
   "outputs": [
    {
     "data": {
      "text/plain": [
       "3     9731\n",
       "4     6849\n",
       "2     2736\n",
       "5     1586\n",
       "6      265\n",
       "1      191\n",
       "7       38\n",
       "8       13\n",
       "9        6\n",
       "10       3\n",
       "11       1\n",
       "33       1\n",
       "Name: bedrooms, dtype: int64"
      ]
     },
     "execution_count": 36,
     "metadata": {},
     "output_type": "execute_result"
    }
   ],
   "source": [
    "beds['bedrooms'].value_counts()"
   ]
  },
  {
   "cell_type": "markdown",
   "metadata": {},
   "source": [
    "It is interesting that there are more 6 bedroom houses than 1 bedroom houses.  Lets get rid of anything above 6 bedrooms."
   ]
  },
  {
   "cell_type": "code",
   "execution_count": 37,
   "metadata": {},
   "outputs": [
    {
     "data": {
      "text/plain": [
       "62"
      ]
     },
     "execution_count": 37,
     "metadata": {},
     "output_type": "execute_result"
    }
   ],
   "source": [
    "# How many rows do we loose dropping houses with more than 6 bedrooms?\n",
    "(beds['bedrooms'] > 6).sum()"
   ]
  },
  {
   "cell_type": "code",
   "execution_count": 38,
   "metadata": {},
   "outputs": [
    {
     "data": {
      "text/plain": [
       "3    9731\n",
       "4    6849\n",
       "2    2736\n",
       "5    1586\n",
       "6     265\n",
       "1     191\n",
       "Name: bedrooms, dtype: int64"
      ]
     },
     "execution_count": 38,
     "metadata": {},
     "output_type": "execute_result"
    }
   ],
   "source": [
    "# drop them\n",
    "beds = beds[beds['bedrooms'] <=6]\n",
    "beds['bedrooms'].value_counts()"
   ]
  },
  {
   "cell_type": "code",
   "execution_count": 39,
   "metadata": {},
   "outputs": [
    {
     "data": {
      "text/plain": [
       "<matplotlib.axes._subplots.AxesSubplot at 0x10465e7f0>"
      ]
     },
     "execution_count": 39,
     "metadata": {},
     "output_type": "execute_result"
    },
    {
     "data": {
      "image/png": "[encoded data removed]",
      "text/plain": [
       "<Figure size 432x288 with 1 Axes>"
      ]
     },
     "metadata": {
      "needs_background": "light"
     },
     "output_type": "display_data"
    }
   ],
   "source": [
    "beds['bedrooms'].hist(bins=6)"
   ]
  },
  {
   "cell_type": "markdown",
   "metadata": {},
   "source": [
    "The distribution looks pretty normal.  Lets test to see if the model performs with beds as a category or a continuous variable."
   ]
  },
  {
   "cell_type": "code",
   "execution_count": 40,
   "metadata": {},
   "outputs": [
    {
     "data": {
      "text/plain": [
       "{'r2_adjusted': 0.9060029806549386,\n",
       " 'train_rmse': 199778.70702497,\n",
       " 'test_rmse': 201306.85856672865,\n",
       " 'diff_rmse': 1528.1515417586488}"
      ]
     },
     "execution_count": 40,
     "metadata": {},
     "output_type": "execute_result"
    }
   ],
   "source": [
    "# model with beds as a continuous variable\n",
    "\n",
    "X = beds.drop('price', axis =1)\n",
    "y = beds['price']\n",
    "\n",
    "quicktest(X, y)"
   ]
  },
  {
   "cell_type": "code",
   "execution_count": 41,
   "metadata": {},
   "outputs": [
    {
     "data": {
      "text/plain": [
       "{'r2_adjusted': 0.9064472693386421,\n",
       " 'train_rmse': 199274.66810454853,\n",
       " 'test_rmse': 200828.89008935483,\n",
       " 'diff_rmse': 1554.221984806296}"
      ]
     },
     "execution_count": 41,
     "metadata": {},
     "output_type": "execute_result"
    }
   ],
   "source": [
    "# try with beds as categorical\n",
    "\n",
    "dummies = pd.get_dummies(beds['bedrooms'], drop_first=True)\n",
    "X = X.combine_first(dummies)\n",
    "X.drop('bedrooms', axis=1, inplace = True)\n",
    "\n",
    "quicktest(X, y)"
   ]
  },
  {
   "cell_type": "markdown",
   "metadata": {},
   "source": [
    "The difference is not significant.  The $R^2$ goes up, but the fit is worse.  **Keep bedrooms continuous.**\n"
   ]
  },
  {
   "cell_type": "code",
   "execution_count": 42,
   "metadata": {},
   "outputs": [
    {
     "data": {
      "text/plain": [
       "{'r2_adjusted': 0.9060029806549386,\n",
       " 'train_rmse': 199778.70702497,\n",
       " 'test_rmse': 201306.85856672865,\n",
       " 'diff_rmse': 1528.1515417586488}"
      ]
     },
     "execution_count": 42,
     "metadata": {},
     "output_type": "execute_result"
    }
   ],
   "source": [
    "## Store the model\n",
    "X = beds.drop('price', axis =1)\n",
    "y = beds['price']\n",
    "\n",
    "quicktest(X, y, '1 (Bedrooms Dropped)')"
   ]
  },
  {
   "cell_type": "code",
   "execution_count": 43,
   "metadata": {},
   "outputs": [
    {
     "data": {
      "text/html": [
       "<div>\n",
       "<style scoped>\n",
       "    .dataframe tbody tr th:only-of-type {\n",
       "        vertical-align: middle;\n",
       "    }\n",
       "\n",
       "    .dataframe tbody tr th {\n",
       "        vertical-align: top;\n",
       "    }\n",
       "\n",
       "    .dataframe thead th {\n",
       "        text-align: right;\n",
       "    }\n",
       "</style>\n",
       "<table border=\"1\" class=\"dataframe\">\n",
       "  <thead>\n",
       "    <tr style=\"text-align: right;\">\n",
       "      <th></th>\n",
       "      <th>r2_adjusted</th>\n",
       "      <th>test_rmse</th>\n",
       "      <th>train_rmse</th>\n",
       "      <th>diff_rmse</th>\n",
       "    </tr>\n",
       "  </thead>\n",
       "  <tbody>\n",
       "    <tr>\n",
       "      <th>baseline</th>\n",
       "      <td>0.905289</td>\n",
       "      <td>201209.512420</td>\n",
       "      <td>202862.451447</td>\n",
       "      <td>1652.939027</td>\n",
       "    </tr>\n",
       "    <tr>\n",
       "      <th>1 (Bedrooms Dropped)</th>\n",
       "      <td>0.906003</td>\n",
       "      <td>199778.707025</td>\n",
       "      <td>201306.858567</td>\n",
       "      <td>1528.151542</td>\n",
       "    </tr>\n",
       "  </tbody>\n",
       "</table>\n",
       "</div>"
      ],
      "text/plain": [
       "                      r2_adjusted      test_rmse     train_rmse    diff_rmse\n",
       "baseline                 0.905289  201209.512420  202862.451447  1652.939027\n",
       "1 (Bedrooms Dropped)     0.906003  199778.707025  201306.858567  1528.151542"
      ]
     },
     "execution_count": 43,
     "metadata": {},
     "output_type": "execute_result"
    }
   ],
   "source": [
    "model_report()"
   ]
  },
  {
   "cell_type": "markdown",
   "metadata": {},
   "source": [
    "## bathrooms"
   ]
  },
  {
   "cell_type": "code",
   "execution_count": 44,
   "metadata": {},
   "outputs": [],
   "source": [
    "baths = beds.copy()"
   ]
  },
  {
   "cell_type": "code",
   "execution_count": 45,
   "metadata": {},
   "outputs": [
    {
     "data": {
      "text/plain": [
       "<matplotlib.axes._subplots.AxesSubplot at 0x10460ff40>"
      ]
     },
     "execution_count": 45,
     "metadata": {},
     "output_type": "execute_result"
    },
    {
     "data": {
      "image/png": "[encoded data removed]",
      "text/plain": [
       "<Figure size 432x288 with 1 Axes>"
      ]
     },
     "metadata": {
      "needs_background": "light"
     },
     "output_type": "display_data"
    }
   ],
   "source": [
    "baths['bathrooms'].hist()"
   ]
  },
  {
   "cell_type": "code",
   "execution_count": 46,
   "metadata": {},
   "outputs": [
    {
     "data": {
      "text/plain": [
       "0.50       4\n",
       "0.75      70\n",
       "1.00    3793\n",
       "1.25       9\n",
       "1.50    1427\n",
       "1.75    3019\n",
       "2.00    1912\n",
       "2.25    2028\n",
       "2.50    5349\n",
       "2.75    1176\n",
       "3.00     738\n",
       "3.25     584\n",
       "3.50     723\n",
       "3.75     152\n",
       "4.00     126\n",
       "4.25      77\n",
       "4.50      94\n",
       "4.75      21\n",
       "5.00      20\n",
       "5.25      12\n",
       "5.50       9\n",
       "5.75       3\n",
       "6.00       5\n",
       "6.25       2\n",
       "6.50       2\n",
       "6.75       1\n",
       "7.75       1\n",
       "8.00       1\n",
       "Name: bathrooms, dtype: int64"
      ]
     },
     "execution_count": 46,
     "metadata": {},
     "output_type": "execute_result"
    }
   ],
   "source": [
    "baths['bathrooms'].value_counts().sort_index()"
   ]
  },
  {
   "cell_type": "code",
   "execution_count": 47,
   "metadata": {},
   "outputs": [
    {
     "data": {
      "text/plain": [
       "0.50       4\n",
       "0.75      70\n",
       "1.00    3793\n",
       "1.25       9\n",
       "1.50    1427\n",
       "1.75    3019\n",
       "2.00    1912\n",
       "2.25    2028\n",
       "2.50    5349\n",
       "2.75    1176\n",
       "3.00     738\n",
       "3.25     584\n",
       "3.50     723\n",
       "3.75     152\n",
       "4.00     126\n",
       "4.25      77\n",
       "4.50      94\n",
       "4.75      21\n",
       "5.00      20\n",
       "Name: bathrooms, dtype: int64"
      ]
     },
     "execution_count": 47,
     "metadata": {},
     "output_type": "execute_result"
    }
   ],
   "source": [
    "# drop everything above 5 bathrooms.  There aren't that many and we are interested in smaller flippable homes.\n",
    "baths = baths[baths['bathrooms'] <=5]\n",
    "baths['bathrooms'].value_counts().sort_index()"
   ]
  },
  {
   "cell_type": "code",
   "execution_count": 48,
   "metadata": {},
   "outputs": [
    {
     "data": {
      "text/plain": [
       "<matplotlib.axes._subplots.AxesSubplot at 0x121101700>"
      ]
     },
     "execution_count": 48,
     "metadata": {},
     "output_type": "execute_result"
    },
    {
     "data": {
      "image/png": "[encoded data removed]",
      "text/plain": [
       "<Figure size 432x288 with 1 Axes>"
      ]
     },
     "metadata": {
      "needs_background": "light"
     },
     "output_type": "display_data"
    }
   ],
   "source": [
    "baths['bathrooms'].hist(bins=5)"
   ]
  },
  {
   "cell_type": "code",
   "execution_count": 49,
   "metadata": {},
   "outputs": [
    {
     "data": {
      "text/plain": [
       "{'r2_adjusted': 0.9124582887055448,\n",
       " 'train_rmse': 188772.42656092902,\n",
       " 'test_rmse': 190028.7840653862,\n",
       " 'diff_rmse': 1256.3575044571771}"
      ]
     },
     "execution_count": 49,
     "metadata": {},
     "output_type": "execute_result"
    }
   ],
   "source": [
    "# model with bathrooms as a continuous variable\n",
    "\n",
    "X = baths.drop('price', axis =1)\n",
    "y = baths['price']\n",
    "\n",
    "quicktest(X, y)"
   ]
  },
  {
   "cell_type": "code",
   "execution_count": 50,
   "metadata": {},
   "outputs": [
    {
     "data": {
      "text/plain": [
       "{'r2_adjusted': 0.9165187253002647,\n",
       " 'train_rmse': 184192.46240933688,\n",
       " 'test_rmse': 185818.92888817246,\n",
       " 'diff_rmse': 1626.4664788355876}"
      ]
     },
     "execution_count": 50,
     "metadata": {},
     "output_type": "execute_result"
    }
   ],
   "source": [
    "# try with beds as categorical\n",
    "\n",
    "dummies = pd.get_dummies(baths['bathrooms'], drop_first=True)\n",
    "X = X.combine_first(dummies)\n",
    "X.drop('bathrooms', axis=1, inplace = True)\n",
    "\n",
    "quicktest(X, y)"
   ]
  },
  {
   "cell_type": "code",
   "execution_count": 51,
   "metadata": {},
   "outputs": [
    {
     "data": {
      "text/html": [
       "<div>\n",
       "<style scoped>\n",
       "    .dataframe tbody tr th:only-of-type {\n",
       "        vertical-align: middle;\n",
       "    }\n",
       "\n",
       "    .dataframe tbody tr th {\n",
       "        vertical-align: top;\n",
       "    }\n",
       "\n",
       "    .dataframe thead th {\n",
       "        text-align: right;\n",
       "    }\n",
       "</style>\n",
       "<table border=\"1\" class=\"dataframe\">\n",
       "  <thead>\n",
       "    <tr style=\"text-align: right;\">\n",
       "      <th></th>\n",
       "      <th>price</th>\n",
       "      <th>bedrooms</th>\n",
       "      <th>bathrooms</th>\n",
       "      <th>sqft_living</th>\n",
       "      <th>sqft_lot</th>\n",
       "      <th>floors</th>\n",
       "      <th>waterfront</th>\n",
       "      <th>view</th>\n",
       "      <th>condition</th>\n",
       "      <th>grade</th>\n",
       "      <th>sqft_above</th>\n",
       "      <th>sqft_basement</th>\n",
       "      <th>yr_built</th>\n",
       "      <th>yr_renovated</th>\n",
       "      <th>zipcode</th>\n",
       "      <th>lat</th>\n",
       "      <th>long</th>\n",
       "      <th>sqft_living15</th>\n",
       "      <th>sqft_lot15</th>\n",
       "      <th>bathroom_count</th>\n",
       "    </tr>\n",
       "    <tr>\n",
       "      <th>id</th>\n",
       "      <th></th>\n",
       "      <th></th>\n",
       "      <th></th>\n",
       "      <th></th>\n",
       "      <th></th>\n",
       "      <th></th>\n",
       "      <th></th>\n",
       "      <th></th>\n",
       "      <th></th>\n",
       "      <th></th>\n",
       "      <th></th>\n",
       "      <th></th>\n",
       "      <th></th>\n",
       "      <th></th>\n",
       "      <th></th>\n",
       "      <th></th>\n",
       "      <th></th>\n",
       "      <th></th>\n",
       "      <th></th>\n",
       "      <th></th>\n",
       "    </tr>\n",
       "  </thead>\n",
       "  <tbody>\n",
       "    <tr>\n",
       "      <th>7129300520</th>\n",
       "      <td>221900.0</td>\n",
       "      <td>3</td>\n",
       "      <td>1.00</td>\n",
       "      <td>1180</td>\n",
       "      <td>5650</td>\n",
       "      <td>1.0</td>\n",
       "      <td>0.0</td>\n",
       "      <td>0.0</td>\n",
       "      <td>3</td>\n",
       "      <td>7</td>\n",
       "      <td>1180</td>\n",
       "      <td>0</td>\n",
       "      <td>1955</td>\n",
       "      <td>0.0</td>\n",
       "      <td>98178</td>\n",
       "      <td>47.5112</td>\n",
       "      <td>-122.257</td>\n",
       "      <td>1340</td>\n",
       "      <td>5650</td>\n",
       "      <td>1.0</td>\n",
       "    </tr>\n",
       "    <tr>\n",
       "      <th>6414100192</th>\n",
       "      <td>538000.0</td>\n",
       "      <td>3</td>\n",
       "      <td>2.25</td>\n",
       "      <td>2570</td>\n",
       "      <td>7242</td>\n",
       "      <td>2.0</td>\n",
       "      <td>0.0</td>\n",
       "      <td>0.0</td>\n",
       "      <td>3</td>\n",
       "      <td>7</td>\n",
       "      <td>2170</td>\n",
       "      <td>400</td>\n",
       "      <td>1951</td>\n",
       "      <td>1991.0</td>\n",
       "      <td>98125</td>\n",
       "      <td>47.7210</td>\n",
       "      <td>-122.319</td>\n",
       "      <td>1690</td>\n",
       "      <td>7639</td>\n",
       "      <td>3.0</td>\n",
       "    </tr>\n",
       "    <tr>\n",
       "      <th>5631500400</th>\n",
       "      <td>180000.0</td>\n",
       "      <td>2</td>\n",
       "      <td>1.00</td>\n",
       "      <td>770</td>\n",
       "      <td>10000</td>\n",
       "      <td>1.0</td>\n",
       "      <td>0.0</td>\n",
       "      <td>0.0</td>\n",
       "      <td>3</td>\n",
       "      <td>6</td>\n",
       "      <td>770</td>\n",
       "      <td>0</td>\n",
       "      <td>1933</td>\n",
       "      <td>0.0</td>\n",
       "      <td>98028</td>\n",
       "      <td>47.7379</td>\n",
       "      <td>-122.233</td>\n",
       "      <td>2720</td>\n",
       "      <td>8062</td>\n",
       "      <td>1.0</td>\n",
       "    </tr>\n",
       "    <tr>\n",
       "      <th>2487200875</th>\n",
       "      <td>604000.0</td>\n",
       "      <td>4</td>\n",
       "      <td>3.00</td>\n",
       "      <td>1960</td>\n",
       "      <td>5000</td>\n",
       "      <td>1.0</td>\n",
       "      <td>0.0</td>\n",
       "      <td>0.0</td>\n",
       "      <td>5</td>\n",
       "      <td>7</td>\n",
       "      <td>1050</td>\n",
       "      <td>910</td>\n",
       "      <td>1965</td>\n",
       "      <td>0.0</td>\n",
       "      <td>98136</td>\n",
       "      <td>47.5208</td>\n",
       "      <td>-122.393</td>\n",
       "      <td>1360</td>\n",
       "      <td>5000</td>\n",
       "      <td>3.0</td>\n",
       "    </tr>\n",
       "    <tr>\n",
       "      <th>1954400510</th>\n",
       "      <td>510000.0</td>\n",
       "      <td>3</td>\n",
       "      <td>2.00</td>\n",
       "      <td>1680</td>\n",
       "      <td>8080</td>\n",
       "      <td>1.0</td>\n",
       "      <td>0.0</td>\n",
       "      <td>0.0</td>\n",
       "      <td>3</td>\n",
       "      <td>8</td>\n",
       "      <td>1680</td>\n",
       "      <td>0</td>\n",
       "      <td>1987</td>\n",
       "      <td>0.0</td>\n",
       "      <td>98074</td>\n",
       "      <td>47.6168</td>\n",
       "      <td>-122.045</td>\n",
       "      <td>1800</td>\n",
       "      <td>7503</td>\n",
       "      <td>2.0</td>\n",
       "    </tr>\n",
       "  </tbody>\n",
       "</table>\n",
       "</div>"
      ],
      "text/plain": [
       "               price  bedrooms  bathrooms  sqft_living  sqft_lot  floors  \\\n",
       "id                                                                         \n",
       "7129300520  221900.0         3       1.00         1180      5650     1.0   \n",
       "6414100192  538000.0         3       2.25         2570      7242     2.0   \n",
       "5631500400  180000.0         2       1.00          770     10000     1.0   \n",
       "2487200875  604000.0         4       3.00         1960      5000     1.0   \n",
       "1954400510  510000.0         3       2.00         1680      8080     1.0   \n",
       "\n",
       "            waterfront  view  condition  grade  sqft_above  sqft_basement  \\\n",
       "id                                                                          \n",
       "7129300520         0.0   0.0          3      7        1180              0   \n",
       "6414100192         0.0   0.0          3      7        2170            400   \n",
       "5631500400         0.0   0.0          3      6         770              0   \n",
       "2487200875         0.0   0.0          5      7        1050            910   \n",
       "1954400510         0.0   0.0          3      8        1680              0   \n",
       "\n",
       "            yr_built  yr_renovated  zipcode      lat     long  sqft_living15  \\\n",
       "id                                                                             \n",
       "7129300520      1955           0.0    98178  47.5112 -122.257           1340   \n",
       "6414100192      1951        1991.0    98125  47.7210 -122.319           1690   \n",
       "5631500400      1933           0.0    98028  47.7379 -122.233           2720   \n",
       "2487200875      1965           0.0    98136  47.5208 -122.393           1360   \n",
       "1954400510      1987           0.0    98074  47.6168 -122.045           1800   \n",
       "\n",
       "            sqft_lot15  bathroom_count  \n",
       "id                                      \n",
       "7129300520        5650             1.0  \n",
       "6414100192        7639             3.0  \n",
       "5631500400        8062             1.0  \n",
       "2487200875        5000             3.0  \n",
       "1954400510        7503             2.0  "
      ]
     },
     "execution_count": 51,
     "metadata": {},
     "output_type": "execute_result"
    }
   ],
   "source": [
    "# Try group the bathrooms together regardless of size.\n",
    "temp_df = baths.copy()\n",
    "temp_df['bathroom_count'] = (temp_df['bathrooms'] // 1) + (np.ceil(temp_df['bathrooms'] % 1))\n",
    "temp_df.head()"
   ]
  },
  {
   "cell_type": "code",
   "execution_count": 52,
   "metadata": {},
   "outputs": [
    {
     "data": {
      "text/html": [
       "<div>\n",
       "<style scoped>\n",
       "    .dataframe tbody tr th:only-of-type {\n",
       "        vertical-align: middle;\n",
       "    }\n",
       "\n",
       "    .dataframe tbody tr th {\n",
       "        vertical-align: top;\n",
       "    }\n",
       "\n",
       "    .dataframe thead th {\n",
       "        text-align: right;\n",
       "    }\n",
       "</style>\n",
       "<table border=\"1\" class=\"dataframe\">\n",
       "  <thead>\n",
       "    <tr style=\"text-align: right;\">\n",
       "      <th></th>\n",
       "      <th>bathroom_count</th>\n",
       "      <th>bathrooms</th>\n",
       "      <th>baths_2.0</th>\n",
       "      <th>baths_3.0</th>\n",
       "      <th>baths_4.0</th>\n",
       "      <th>baths_5.0</th>\n",
       "      <th>bedrooms</th>\n",
       "      <th>condition</th>\n",
       "      <th>floors</th>\n",
       "      <th>grade</th>\n",
       "      <th>lat</th>\n",
       "      <th>long</th>\n",
       "      <th>price</th>\n",
       "      <th>sqft_above</th>\n",
       "      <th>sqft_basement</th>\n",
       "      <th>sqft_living</th>\n",
       "      <th>sqft_living15</th>\n",
       "      <th>sqft_lot</th>\n",
       "      <th>sqft_lot15</th>\n",
       "      <th>view</th>\n",
       "      <th>waterfront</th>\n",
       "      <th>yr_built</th>\n",
       "      <th>yr_renovated</th>\n",
       "      <th>zipcode</th>\n",
       "    </tr>\n",
       "    <tr>\n",
       "      <th>id</th>\n",
       "      <th></th>\n",
       "      <th></th>\n",
       "      <th></th>\n",
       "      <th></th>\n",
       "      <th></th>\n",
       "      <th></th>\n",
       "      <th></th>\n",
       "      <th></th>\n",
       "      <th></th>\n",
       "      <th></th>\n",
       "      <th></th>\n",
       "      <th></th>\n",
       "      <th></th>\n",
       "      <th></th>\n",
       "      <th></th>\n",
       "      <th></th>\n",
       "      <th></th>\n",
       "      <th></th>\n",
       "      <th></th>\n",
       "      <th></th>\n",
       "      <th></th>\n",
       "      <th></th>\n",
       "      <th></th>\n",
       "      <th></th>\n",
       "    </tr>\n",
       "  </thead>\n",
       "  <tbody>\n",
       "    <tr>\n",
       "      <th>7129300520</th>\n",
       "      <td>1.0</td>\n",
       "      <td>1.00</td>\n",
       "      <td>0.0</td>\n",
       "      <td>0.0</td>\n",
       "      <td>0.0</td>\n",
       "      <td>0.0</td>\n",
       "      <td>3</td>\n",
       "      <td>3</td>\n",
       "      <td>1.0</td>\n",
       "      <td>7</td>\n",
       "      <td>47.5112</td>\n",
       "      <td>-122.257</td>\n",
       "      <td>221900.0</td>\n",
       "      <td>1180</td>\n",
       "      <td>0</td>\n",
       "      <td>1180</td>\n",
       "      <td>1340</td>\n",
       "      <td>5650</td>\n",
       "      <td>5650</td>\n",
       "      <td>0.0</td>\n",
       "      <td>0.0</td>\n",
       "      <td>1955</td>\n",
       "      <td>0.0</td>\n",
       "      <td>98178</td>\n",
       "    </tr>\n",
       "    <tr>\n",
       "      <th>6414100192</th>\n",
       "      <td>3.0</td>\n",
       "      <td>2.25</td>\n",
       "      <td>0.0</td>\n",
       "      <td>1.0</td>\n",
       "      <td>0.0</td>\n",
       "      <td>0.0</td>\n",
       "      <td>3</td>\n",
       "      <td>3</td>\n",
       "      <td>2.0</td>\n",
       "      <td>7</td>\n",
       "      <td>47.7210</td>\n",
       "      <td>-122.319</td>\n",
       "      <td>538000.0</td>\n",
       "      <td>2170</td>\n",
       "      <td>400</td>\n",
       "      <td>2570</td>\n",
       "      <td>1690</td>\n",
       "      <td>7242</td>\n",
       "      <td>7639</td>\n",
       "      <td>0.0</td>\n",
       "      <td>0.0</td>\n",
       "      <td>1951</td>\n",
       "      <td>1991.0</td>\n",
       "      <td>98125</td>\n",
       "    </tr>\n",
       "    <tr>\n",
       "      <th>5631500400</th>\n",
       "      <td>1.0</td>\n",
       "      <td>1.00</td>\n",
       "      <td>0.0</td>\n",
       "      <td>0.0</td>\n",
       "      <td>0.0</td>\n",
       "      <td>0.0</td>\n",
       "      <td>2</td>\n",
       "      <td>3</td>\n",
       "      <td>1.0</td>\n",
       "      <td>6</td>\n",
       "      <td>47.7379</td>\n",
       "      <td>-122.233</td>\n",
       "      <td>180000.0</td>\n",
       "      <td>770</td>\n",
       "      <td>0</td>\n",
       "      <td>770</td>\n",
       "      <td>2720</td>\n",
       "      <td>10000</td>\n",
       "      <td>8062</td>\n",
       "      <td>0.0</td>\n",
       "      <td>0.0</td>\n",
       "      <td>1933</td>\n",
       "      <td>0.0</td>\n",
       "      <td>98028</td>\n",
       "    </tr>\n",
       "    <tr>\n",
       "      <th>2487200875</th>\n",
       "      <td>3.0</td>\n",
       "      <td>3.00</td>\n",
       "      <td>0.0</td>\n",
       "      <td>1.0</td>\n",
       "      <td>0.0</td>\n",
       "      <td>0.0</td>\n",
       "      <td>4</td>\n",
       "      <td>5</td>\n",
       "      <td>1.0</td>\n",
       "      <td>7</td>\n",
       "      <td>47.5208</td>\n",
       "      <td>-122.393</td>\n",
       "      <td>604000.0</td>\n",
       "      <td>1050</td>\n",
       "      <td>910</td>\n",
       "      <td>1960</td>\n",
       "      <td>1360</td>\n",
       "      <td>5000</td>\n",
       "      <td>5000</td>\n",
       "      <td>0.0</td>\n",
       "      <td>0.0</td>\n",
       "      <td>1965</td>\n",
       "      <td>0.0</td>\n",
       "      <td>98136</td>\n",
       "    </tr>\n",
       "    <tr>\n",
       "      <th>1954400510</th>\n",
       "      <td>2.0</td>\n",
       "      <td>2.00</td>\n",
       "      <td>1.0</td>\n",
       "      <td>0.0</td>\n",
       "      <td>0.0</td>\n",
       "      <td>0.0</td>\n",
       "      <td>3</td>\n",
       "      <td>3</td>\n",
       "      <td>1.0</td>\n",
       "      <td>8</td>\n",
       "      <td>47.6168</td>\n",
       "      <td>-122.045</td>\n",
       "      <td>510000.0</td>\n",
       "      <td>1680</td>\n",
       "      <td>0</td>\n",
       "      <td>1680</td>\n",
       "      <td>1800</td>\n",
       "      <td>8080</td>\n",
       "      <td>7503</td>\n",
       "      <td>0.0</td>\n",
       "      <td>0.0</td>\n",
       "      <td>1987</td>\n",
       "      <td>0.0</td>\n",
       "      <td>98074</td>\n",
       "    </tr>\n",
       "    <tr>\n",
       "      <th>...</th>\n",
       "      <td>...</td>\n",
       "      <td>...</td>\n",
       "      <td>...</td>\n",
       "      <td>...</td>\n",
       "      <td>...</td>\n",
       "      <td>...</td>\n",
       "      <td>...</td>\n",
       "      <td>...</td>\n",
       "      <td>...</td>\n",
       "      <td>...</td>\n",
       "      <td>...</td>\n",
       "      <td>...</td>\n",
       "      <td>...</td>\n",
       "      <td>...</td>\n",
       "      <td>...</td>\n",
       "      <td>...</td>\n",
       "      <td>...</td>\n",
       "      <td>...</td>\n",
       "      <td>...</td>\n",
       "      <td>...</td>\n",
       "      <td>...</td>\n",
       "      <td>...</td>\n",
       "      <td>...</td>\n",
       "      <td>...</td>\n",
       "    </tr>\n",
       "    <tr>\n",
       "      <th>263000018</th>\n",
       "      <td>3.0</td>\n",
       "      <td>2.50</td>\n",
       "      <td>0.0</td>\n",
       "      <td>1.0</td>\n",
       "      <td>0.0</td>\n",
       "      <td>0.0</td>\n",
       "      <td>3</td>\n",
       "      <td>3</td>\n",
       "      <td>3.0</td>\n",
       "      <td>8</td>\n",
       "      <td>47.6993</td>\n",
       "      <td>-122.346</td>\n",
       "      <td>360000.0</td>\n",
       "      <td>1530</td>\n",
       "      <td>0</td>\n",
       "      <td>1530</td>\n",
       "      <td>1530</td>\n",
       "      <td>1131</td>\n",
       "      <td>1509</td>\n",
       "      <td>0.0</td>\n",
       "      <td>0.0</td>\n",
       "      <td>2009</td>\n",
       "      <td>0.0</td>\n",
       "      <td>98103</td>\n",
       "    </tr>\n",
       "    <tr>\n",
       "      <th>6600060120</th>\n",
       "      <td>3.0</td>\n",
       "      <td>2.50</td>\n",
       "      <td>0.0</td>\n",
       "      <td>1.0</td>\n",
       "      <td>0.0</td>\n",
       "      <td>0.0</td>\n",
       "      <td>4</td>\n",
       "      <td>3</td>\n",
       "      <td>2.0</td>\n",
       "      <td>8</td>\n",
       "      <td>47.5107</td>\n",
       "      <td>-122.362</td>\n",
       "      <td>400000.0</td>\n",
       "      <td>2310</td>\n",
       "      <td>0</td>\n",
       "      <td>2310</td>\n",
       "      <td>1830</td>\n",
       "      <td>5813</td>\n",
       "      <td>7200</td>\n",
       "      <td>0.0</td>\n",
       "      <td>0.0</td>\n",
       "      <td>2014</td>\n",
       "      <td>0.0</td>\n",
       "      <td>98146</td>\n",
       "    </tr>\n",
       "    <tr>\n",
       "      <th>1523300141</th>\n",
       "      <td>1.0</td>\n",
       "      <td>0.75</td>\n",
       "      <td>0.0</td>\n",
       "      <td>0.0</td>\n",
       "      <td>0.0</td>\n",
       "      <td>0.0</td>\n",
       "      <td>2</td>\n",
       "      <td>3</td>\n",
       "      <td>2.0</td>\n",
       "      <td>7</td>\n",
       "      <td>47.5944</td>\n",
       "      <td>-122.299</td>\n",
       "      <td>402101.0</td>\n",
       "      <td>1020</td>\n",
       "      <td>0</td>\n",
       "      <td>1020</td>\n",
       "      <td>1020</td>\n",
       "      <td>1350</td>\n",
       "      <td>2007</td>\n",
       "      <td>0.0</td>\n",
       "      <td>0.0</td>\n",
       "      <td>2009</td>\n",
       "      <td>0.0</td>\n",
       "      <td>98144</td>\n",
       "    </tr>\n",
       "    <tr>\n",
       "      <th>291310100</th>\n",
       "      <td>3.0</td>\n",
       "      <td>2.50</td>\n",
       "      <td>0.0</td>\n",
       "      <td>1.0</td>\n",
       "      <td>0.0</td>\n",
       "      <td>0.0</td>\n",
       "      <td>3</td>\n",
       "      <td>3</td>\n",
       "      <td>2.0</td>\n",
       "      <td>8</td>\n",
       "      <td>47.5345</td>\n",
       "      <td>-122.069</td>\n",
       "      <td>400000.0</td>\n",
       "      <td>1600</td>\n",
       "      <td>0</td>\n",
       "      <td>1600</td>\n",
       "      <td>1410</td>\n",
       "      <td>2388</td>\n",
       "      <td>1287</td>\n",
       "      <td>0.0</td>\n",
       "      <td>0.0</td>\n",
       "      <td>2004</td>\n",
       "      <td>0.0</td>\n",
       "      <td>98027</td>\n",
       "    </tr>\n",
       "    <tr>\n",
       "      <th>1523300157</th>\n",
       "      <td>1.0</td>\n",
       "      <td>0.75</td>\n",
       "      <td>0.0</td>\n",
       "      <td>0.0</td>\n",
       "      <td>0.0</td>\n",
       "      <td>0.0</td>\n",
       "      <td>2</td>\n",
       "      <td>3</td>\n",
       "      <td>2.0</td>\n",
       "      <td>7</td>\n",
       "      <td>47.5941</td>\n",
       "      <td>-122.299</td>\n",
       "      <td>325000.0</td>\n",
       "      <td>1020</td>\n",
       "      <td>0</td>\n",
       "      <td>1020</td>\n",
       "      <td>1020</td>\n",
       "      <td>1076</td>\n",
       "      <td>1357</td>\n",
       "      <td>0.0</td>\n",
       "      <td>0.0</td>\n",
       "      <td>2008</td>\n",
       "      <td>0.0</td>\n",
       "      <td>98144</td>\n",
       "    </tr>\n",
       "  </tbody>\n",
       "</table>\n",
       "<p>21322 rows × 24 columns</p>\n",
       "</div>"
      ],
      "text/plain": [
       "            bathroom_count  bathrooms  baths_2.0  baths_3.0  baths_4.0  \\\n",
       "id                                                                       \n",
       "7129300520             1.0       1.00        0.0        0.0        0.0   \n",
       "6414100192             3.0       2.25        0.0        1.0        0.0   \n",
       "5631500400             1.0       1.00        0.0        0.0        0.0   \n",
       "2487200875             3.0       3.00        0.0        1.0        0.0   \n",
       "1954400510             2.0       2.00        1.0        0.0        0.0   \n",
       "...                    ...        ...        ...        ...        ...   \n",
       "263000018              3.0       2.50        0.0        1.0        0.0   \n",
       "6600060120             3.0       2.50        0.0        1.0        0.0   \n",
       "1523300141             1.0       0.75        0.0        0.0        0.0   \n",
       "291310100              3.0       2.50        0.0        1.0        0.0   \n",
       "1523300157             1.0       0.75        0.0        0.0        0.0   \n",
       "\n",
       "            baths_5.0  bedrooms  condition  floors  grade      lat     long  \\\n",
       "id                                                                            \n",
       "7129300520        0.0         3          3     1.0      7  47.5112 -122.257   \n",
       "6414100192        0.0         3          3     2.0      7  47.7210 -122.319   \n",
       "5631500400        0.0         2          3     1.0      6  47.7379 -122.233   \n",
       "2487200875        0.0         4          5     1.0      7  47.5208 -122.393   \n",
       "1954400510        0.0         3          3     1.0      8  47.6168 -122.045   \n",
       "...               ...       ...        ...     ...    ...      ...      ...   \n",
       "263000018         0.0         3          3     3.0      8  47.6993 -122.346   \n",
       "6600060120        0.0         4          3     2.0      8  47.5107 -122.362   \n",
       "1523300141        0.0         2          3     2.0      7  47.5944 -122.299   \n",
       "291310100         0.0         3          3     2.0      8  47.5345 -122.069   \n",
       "1523300157        0.0         2          3     2.0      7  47.5941 -122.299   \n",
       "\n",
       "               price  sqft_above  sqft_basement  sqft_living  sqft_living15  \\\n",
       "id                                                                            \n",
       "7129300520  221900.0        1180              0         1180           1340   \n",
       "6414100192  538000.0        2170            400         2570           1690   \n",
       "5631500400  180000.0         770              0          770           2720   \n",
       "2487200875  604000.0        1050            910         1960           1360   \n",
       "1954400510  510000.0        1680              0         1680           1800   \n",
       "...              ...         ...            ...          ...            ...   \n",
       "263000018   360000.0        1530              0         1530           1530   \n",
       "6600060120  400000.0        2310              0         2310           1830   \n",
       "1523300141  402101.0        1020              0         1020           1020   \n",
       "291310100   400000.0        1600              0         1600           1410   \n",
       "1523300157  325000.0        1020              0         1020           1020   \n",
       "\n",
       "            sqft_lot  sqft_lot15  view  waterfront  yr_built  yr_renovated  \\\n",
       "id                                                                           \n",
       "7129300520      5650        5650   0.0         0.0      1955           0.0   \n",
       "6414100192      7242        7639   0.0         0.0      1951        1991.0   \n",
       "5631500400     10000        8062   0.0         0.0      1933           0.0   \n",
       "2487200875      5000        5000   0.0         0.0      1965           0.0   \n",
       "1954400510      8080        7503   0.0         0.0      1987           0.0   \n",
       "...              ...         ...   ...         ...       ...           ...   \n",
       "263000018       1131        1509   0.0         0.0      2009           0.0   \n",
       "6600060120      5813        7200   0.0         0.0      2014           0.0   \n",
       "1523300141      1350        2007   0.0         0.0      2009           0.0   \n",
       "291310100       2388        1287   0.0         0.0      2004           0.0   \n",
       "1523300157      1076        1357   0.0         0.0      2008           0.0   \n",
       "\n",
       "            zipcode  \n",
       "id                   \n",
       "7129300520    98178  \n",
       "6414100192    98125  \n",
       "5631500400    98028  \n",
       "2487200875    98136  \n",
       "1954400510    98074  \n",
       "...             ...  \n",
       "263000018     98103  \n",
       "6600060120    98146  \n",
       "1523300141    98144  \n",
       "291310100     98027  \n",
       "1523300157    98144  \n",
       "\n",
       "[21322 rows x 24 columns]"
      ]
     },
     "execution_count": 52,
     "metadata": {},
     "output_type": "execute_result"
    }
   ],
   "source": [
    "dummies = pd.get_dummies(temp_df['bathroom_count'], prefix='baths', drop_first=True)\n",
    "temp_df = temp_df.combine_first(dummies)\n",
    "temp_df"
   ]
  },
  {
   "cell_type": "code",
   "execution_count": 53,
   "metadata": {},
   "outputs": [
    {
     "data": {
      "text/plain": [
       "{'r2_adjusted': 0.9155490035423766,\n",
       " 'train_rmse': 185371.1441774164,\n",
       " 'test_rmse': 186517.09038589982,\n",
       " 'diff_rmse': 1145.946208483423}"
      ]
     },
     "execution_count": 53,
     "metadata": {},
     "output_type": "execute_result"
    }
   ],
   "source": [
    "X = temp_df.drop(columns=['price', 'bathrooms', 'bathroom_count'])\n",
    "\n",
    "quicktest(X, y)"
   ]
  },
  {
   "cell_type": "code",
   "execution_count": 54,
   "metadata": {},
   "outputs": [
    {
     "data": {
      "text/html": [
       "<div>\n",
       "<style scoped>\n",
       "    .dataframe tbody tr th:only-of-type {\n",
       "        vertical-align: middle;\n",
       "    }\n",
       "\n",
       "    .dataframe tbody tr th {\n",
       "        vertical-align: top;\n",
       "    }\n",
       "\n",
       "    .dataframe thead th {\n",
       "        text-align: right;\n",
       "    }\n",
       "</style>\n",
       "<table border=\"1\" class=\"dataframe\">\n",
       "  <thead>\n",
       "    <tr style=\"text-align: right;\">\n",
       "      <th></th>\n",
       "      <th>baths_2.0</th>\n",
       "      <th>baths_3.0</th>\n",
       "      <th>baths_4.0</th>\n",
       "      <th>baths_5.0</th>\n",
       "      <th>bedrooms</th>\n",
       "      <th>condition</th>\n",
       "      <th>floors</th>\n",
       "      <th>grade</th>\n",
       "      <th>lat</th>\n",
       "      <th>long</th>\n",
       "      <th>sqft_above</th>\n",
       "      <th>sqft_basement</th>\n",
       "      <th>sqft_living</th>\n",
       "      <th>sqft_living15</th>\n",
       "      <th>sqft_lot</th>\n",
       "      <th>sqft_lot15</th>\n",
       "      <th>view</th>\n",
       "      <th>waterfront</th>\n",
       "      <th>yr_built</th>\n",
       "      <th>yr_renovated</th>\n",
       "      <th>zipcode</th>\n",
       "    </tr>\n",
       "    <tr>\n",
       "      <th>id</th>\n",
       "      <th></th>\n",
       "      <th></th>\n",
       "      <th></th>\n",
       "      <th></th>\n",
       "      <th></th>\n",
       "      <th></th>\n",
       "      <th></th>\n",
       "      <th></th>\n",
       "      <th></th>\n",
       "      <th></th>\n",
       "      <th></th>\n",
       "      <th></th>\n",
       "      <th></th>\n",
       "      <th></th>\n",
       "      <th></th>\n",
       "      <th></th>\n",
       "      <th></th>\n",
       "      <th></th>\n",
       "      <th></th>\n",
       "      <th></th>\n",
       "      <th></th>\n",
       "    </tr>\n",
       "  </thead>\n",
       "  <tbody>\n",
       "    <tr>\n",
       "      <th>7129300520</th>\n",
       "      <td>0.0</td>\n",
       "      <td>0.0</td>\n",
       "      <td>0.0</td>\n",
       "      <td>0.0</td>\n",
       "      <td>3</td>\n",
       "      <td>3</td>\n",
       "      <td>1.0</td>\n",
       "      <td>7</td>\n",
       "      <td>47.5112</td>\n",
       "      <td>-122.257</td>\n",
       "      <td>1180</td>\n",
       "      <td>0</td>\n",
       "      <td>1180</td>\n",
       "      <td>1340</td>\n",
       "      <td>5650</td>\n",
       "      <td>5650</td>\n",
       "      <td>0.0</td>\n",
       "      <td>0.0</td>\n",
       "      <td>1955</td>\n",
       "      <td>0.0</td>\n",
       "      <td>98178</td>\n",
       "    </tr>\n",
       "    <tr>\n",
       "      <th>6414100192</th>\n",
       "      <td>0.0</td>\n",
       "      <td>1.0</td>\n",
       "      <td>0.0</td>\n",
       "      <td>0.0</td>\n",
       "      <td>3</td>\n",
       "      <td>3</td>\n",
       "      <td>2.0</td>\n",
       "      <td>7</td>\n",
       "      <td>47.7210</td>\n",
       "      <td>-122.319</td>\n",
       "      <td>2170</td>\n",
       "      <td>400</td>\n",
       "      <td>2570</td>\n",
       "      <td>1690</td>\n",
       "      <td>7242</td>\n",
       "      <td>7639</td>\n",
       "      <td>0.0</td>\n",
       "      <td>0.0</td>\n",
       "      <td>1951</td>\n",
       "      <td>1991.0</td>\n",
       "      <td>98125</td>\n",
       "    </tr>\n",
       "  </tbody>\n",
       "</table>\n",
       "</div>"
      ],
      "text/plain": [
       "            baths_2.0  baths_3.0  baths_4.0  baths_5.0  bedrooms  condition  \\\n",
       "id                                                                            \n",
       "7129300520        0.0        0.0        0.0        0.0         3          3   \n",
       "6414100192        0.0        1.0        0.0        0.0         3          3   \n",
       "\n",
       "            floors  grade      lat     long  sqft_above  sqft_basement  \\\n",
       "id                                                                       \n",
       "7129300520     1.0      7  47.5112 -122.257        1180              0   \n",
       "6414100192     2.0      7  47.7210 -122.319        2170            400   \n",
       "\n",
       "            sqft_living  sqft_living15  sqft_lot  sqft_lot15  view  \\\n",
       "id                                                                   \n",
       "7129300520         1180           1340      5650        5650   0.0   \n",
       "6414100192         2570           1690      7242        7639   0.0   \n",
       "\n",
       "            waterfront  yr_built  yr_renovated  zipcode  \n",
       "id                                                       \n",
       "7129300520         0.0      1955           0.0    98178  \n",
       "6414100192         0.0      1951        1991.0    98125  "
      ]
     },
     "execution_count": 54,
     "metadata": {},
     "output_type": "execute_result"
    }
   ],
   "source": [
    "X.head(2)"
   ]
  },
  {
   "cell_type": "code",
   "execution_count": 55,
   "metadata": {},
   "outputs": [
    {
     "data": {
      "text/html": [
       "<div>\n",
       "<style scoped>\n",
       "    .dataframe tbody tr th:only-of-type {\n",
       "        vertical-align: middle;\n",
       "    }\n",
       "\n",
       "    .dataframe tbody tr th {\n",
       "        vertical-align: top;\n",
       "    }\n",
       "\n",
       "    .dataframe thead th {\n",
       "        text-align: right;\n",
       "    }\n",
       "</style>\n",
       "<table border=\"1\" class=\"dataframe\">\n",
       "  <thead>\n",
       "    <tr style=\"text-align: right;\">\n",
       "      <th></th>\n",
       "      <th>price</th>\n",
       "      <th>bedrooms</th>\n",
       "      <th>bathrooms</th>\n",
       "      <th>sqft_living</th>\n",
       "      <th>sqft_lot</th>\n",
       "      <th>floors</th>\n",
       "      <th>waterfront</th>\n",
       "      <th>view</th>\n",
       "      <th>condition</th>\n",
       "      <th>grade</th>\n",
       "      <th>sqft_above</th>\n",
       "      <th>sqft_basement</th>\n",
       "      <th>yr_built</th>\n",
       "      <th>yr_renovated</th>\n",
       "      <th>zipcode</th>\n",
       "      <th>lat</th>\n",
       "      <th>long</th>\n",
       "      <th>sqft_living15</th>\n",
       "      <th>sqft_lot15</th>\n",
       "    </tr>\n",
       "    <tr>\n",
       "      <th>id</th>\n",
       "      <th></th>\n",
       "      <th></th>\n",
       "      <th></th>\n",
       "      <th></th>\n",
       "      <th></th>\n",
       "      <th></th>\n",
       "      <th></th>\n",
       "      <th></th>\n",
       "      <th></th>\n",
       "      <th></th>\n",
       "      <th></th>\n",
       "      <th></th>\n",
       "      <th></th>\n",
       "      <th></th>\n",
       "      <th></th>\n",
       "      <th></th>\n",
       "      <th></th>\n",
       "      <th></th>\n",
       "      <th></th>\n",
       "    </tr>\n",
       "  </thead>\n",
       "  <tbody>\n",
       "    <tr>\n",
       "      <th>7129300520</th>\n",
       "      <td>221900.0</td>\n",
       "      <td>3</td>\n",
       "      <td>1.00</td>\n",
       "      <td>1180</td>\n",
       "      <td>5650</td>\n",
       "      <td>1.0</td>\n",
       "      <td>0.0</td>\n",
       "      <td>0.0</td>\n",
       "      <td>3</td>\n",
       "      <td>7</td>\n",
       "      <td>1180</td>\n",
       "      <td>0</td>\n",
       "      <td>1955</td>\n",
       "      <td>0.0</td>\n",
       "      <td>98178</td>\n",
       "      <td>47.5112</td>\n",
       "      <td>-122.257</td>\n",
       "      <td>1340</td>\n",
       "      <td>5650</td>\n",
       "    </tr>\n",
       "    <tr>\n",
       "      <th>6414100192</th>\n",
       "      <td>538000.0</td>\n",
       "      <td>3</td>\n",
       "      <td>2.25</td>\n",
       "      <td>2570</td>\n",
       "      <td>7242</td>\n",
       "      <td>2.0</td>\n",
       "      <td>0.0</td>\n",
       "      <td>0.0</td>\n",
       "      <td>3</td>\n",
       "      <td>7</td>\n",
       "      <td>2170</td>\n",
       "      <td>400</td>\n",
       "      <td>1951</td>\n",
       "      <td>1991.0</td>\n",
       "      <td>98125</td>\n",
       "      <td>47.7210</td>\n",
       "      <td>-122.319</td>\n",
       "      <td>1690</td>\n",
       "      <td>7639</td>\n",
       "    </tr>\n",
       "    <tr>\n",
       "      <th>5631500400</th>\n",
       "      <td>180000.0</td>\n",
       "      <td>2</td>\n",
       "      <td>1.00</td>\n",
       "      <td>770</td>\n",
       "      <td>10000</td>\n",
       "      <td>1.0</td>\n",
       "      <td>0.0</td>\n",
       "      <td>0.0</td>\n",
       "      <td>3</td>\n",
       "      <td>6</td>\n",
       "      <td>770</td>\n",
       "      <td>0</td>\n",
       "      <td>1933</td>\n",
       "      <td>0.0</td>\n",
       "      <td>98028</td>\n",
       "      <td>47.7379</td>\n",
       "      <td>-122.233</td>\n",
       "      <td>2720</td>\n",
       "      <td>8062</td>\n",
       "    </tr>\n",
       "    <tr>\n",
       "      <th>2487200875</th>\n",
       "      <td>604000.0</td>\n",
       "      <td>4</td>\n",
       "      <td>3.00</td>\n",
       "      <td>1960</td>\n",
       "      <td>5000</td>\n",
       "      <td>1.0</td>\n",
       "      <td>0.0</td>\n",
       "      <td>0.0</td>\n",
       "      <td>5</td>\n",
       "      <td>7</td>\n",
       "      <td>1050</td>\n",
       "      <td>910</td>\n",
       "      <td>1965</td>\n",
       "      <td>0.0</td>\n",
       "      <td>98136</td>\n",
       "      <td>47.5208</td>\n",
       "      <td>-122.393</td>\n",
       "      <td>1360</td>\n",
       "      <td>5000</td>\n",
       "    </tr>\n",
       "    <tr>\n",
       "      <th>1954400510</th>\n",
       "      <td>510000.0</td>\n",
       "      <td>3</td>\n",
       "      <td>2.00</td>\n",
       "      <td>1680</td>\n",
       "      <td>8080</td>\n",
       "      <td>1.0</td>\n",
       "      <td>0.0</td>\n",
       "      <td>0.0</td>\n",
       "      <td>3</td>\n",
       "      <td>8</td>\n",
       "      <td>1680</td>\n",
       "      <td>0</td>\n",
       "      <td>1987</td>\n",
       "      <td>0.0</td>\n",
       "      <td>98074</td>\n",
       "      <td>47.6168</td>\n",
       "      <td>-122.045</td>\n",
       "      <td>1800</td>\n",
       "      <td>7503</td>\n",
       "    </tr>\n",
       "    <tr>\n",
       "      <th>...</th>\n",
       "      <td>...</td>\n",
       "      <td>...</td>\n",
       "      <td>...</td>\n",
       "      <td>...</td>\n",
       "      <td>...</td>\n",
       "      <td>...</td>\n",
       "      <td>...</td>\n",
       "      <td>...</td>\n",
       "      <td>...</td>\n",
       "      <td>...</td>\n",
       "      <td>...</td>\n",
       "      <td>...</td>\n",
       "      <td>...</td>\n",
       "      <td>...</td>\n",
       "      <td>...</td>\n",
       "      <td>...</td>\n",
       "      <td>...</td>\n",
       "      <td>...</td>\n",
       "      <td>...</td>\n",
       "    </tr>\n",
       "    <tr>\n",
       "      <th>263000018</th>\n",
       "      <td>360000.0</td>\n",
       "      <td>3</td>\n",
       "      <td>2.50</td>\n",
       "      <td>1530</td>\n",
       "      <td>1131</td>\n",
       "      <td>3.0</td>\n",
       "      <td>0.0</td>\n",
       "      <td>0.0</td>\n",
       "      <td>3</td>\n",
       "      <td>8</td>\n",
       "      <td>1530</td>\n",
       "      <td>0</td>\n",
       "      <td>2009</td>\n",
       "      <td>0.0</td>\n",
       "      <td>98103</td>\n",
       "      <td>47.6993</td>\n",
       "      <td>-122.346</td>\n",
       "      <td>1530</td>\n",
       "      <td>1509</td>\n",
       "    </tr>\n",
       "    <tr>\n",
       "      <th>6600060120</th>\n",
       "      <td>400000.0</td>\n",
       "      <td>4</td>\n",
       "      <td>2.50</td>\n",
       "      <td>2310</td>\n",
       "      <td>5813</td>\n",
       "      <td>2.0</td>\n",
       "      <td>0.0</td>\n",
       "      <td>0.0</td>\n",
       "      <td>3</td>\n",
       "      <td>8</td>\n",
       "      <td>2310</td>\n",
       "      <td>0</td>\n",
       "      <td>2014</td>\n",
       "      <td>0.0</td>\n",
       "      <td>98146</td>\n",
       "      <td>47.5107</td>\n",
       "      <td>-122.362</td>\n",
       "      <td>1830</td>\n",
       "      <td>7200</td>\n",
       "    </tr>\n",
       "    <tr>\n",
       "      <th>1523300141</th>\n",
       "      <td>402101.0</td>\n",
       "      <td>2</td>\n",
       "      <td>0.75</td>\n",
       "      <td>1020</td>\n",
       "      <td>1350</td>\n",
       "      <td>2.0</td>\n",
       "      <td>0.0</td>\n",
       "      <td>0.0</td>\n",
       "      <td>3</td>\n",
       "      <td>7</td>\n",
       "      <td>1020</td>\n",
       "      <td>0</td>\n",
       "      <td>2009</td>\n",
       "      <td>0.0</td>\n",
       "      <td>98144</td>\n",
       "      <td>47.5944</td>\n",
       "      <td>-122.299</td>\n",
       "      <td>1020</td>\n",
       "      <td>2007</td>\n",
       "    </tr>\n",
       "    <tr>\n",
       "      <th>291310100</th>\n",
       "      <td>400000.0</td>\n",
       "      <td>3</td>\n",
       "      <td>2.50</td>\n",
       "      <td>1600</td>\n",
       "      <td>2388</td>\n",
       "      <td>2.0</td>\n",
       "      <td>0.0</td>\n",
       "      <td>0.0</td>\n",
       "      <td>3</td>\n",
       "      <td>8</td>\n",
       "      <td>1600</td>\n",
       "      <td>0</td>\n",
       "      <td>2004</td>\n",
       "      <td>0.0</td>\n",
       "      <td>98027</td>\n",
       "      <td>47.5345</td>\n",
       "      <td>-122.069</td>\n",
       "      <td>1410</td>\n",
       "      <td>1287</td>\n",
       "    </tr>\n",
       "    <tr>\n",
       "      <th>1523300157</th>\n",
       "      <td>325000.0</td>\n",
       "      <td>2</td>\n",
       "      <td>0.75</td>\n",
       "      <td>1020</td>\n",
       "      <td>1076</td>\n",
       "      <td>2.0</td>\n",
       "      <td>0.0</td>\n",
       "      <td>0.0</td>\n",
       "      <td>3</td>\n",
       "      <td>7</td>\n",
       "      <td>1020</td>\n",
       "      <td>0</td>\n",
       "      <td>2008</td>\n",
       "      <td>0.0</td>\n",
       "      <td>98144</td>\n",
       "      <td>47.5941</td>\n",
       "      <td>-122.299</td>\n",
       "      <td>1020</td>\n",
       "      <td>1357</td>\n",
       "    </tr>\n",
       "  </tbody>\n",
       "</table>\n",
       "<p>21322 rows × 19 columns</p>\n",
       "</div>"
      ],
      "text/plain": [
       "               price  bedrooms  bathrooms  sqft_living  sqft_lot  floors  \\\n",
       "id                                                                         \n",
       "7129300520  221900.0         3       1.00         1180      5650     1.0   \n",
       "6414100192  538000.0         3       2.25         2570      7242     2.0   \n",
       "5631500400  180000.0         2       1.00          770     10000     1.0   \n",
       "2487200875  604000.0         4       3.00         1960      5000     1.0   \n",
       "1954400510  510000.0         3       2.00         1680      8080     1.0   \n",
       "...              ...       ...        ...          ...       ...     ...   \n",
       "263000018   360000.0         3       2.50         1530      1131     3.0   \n",
       "6600060120  400000.0         4       2.50         2310      5813     2.0   \n",
       "1523300141  402101.0         2       0.75         1020      1350     2.0   \n",
       "291310100   400000.0         3       2.50         1600      2388     2.0   \n",
       "1523300157  325000.0         2       0.75         1020      1076     2.0   \n",
       "\n",
       "            waterfront  view  condition  grade  sqft_above  sqft_basement  \\\n",
       "id                                                                          \n",
       "7129300520         0.0   0.0          3      7        1180              0   \n",
       "6414100192         0.0   0.0          3      7        2170            400   \n",
       "5631500400         0.0   0.0          3      6         770              0   \n",
       "2487200875         0.0   0.0          5      7        1050            910   \n",
       "1954400510         0.0   0.0          3      8        1680              0   \n",
       "...                ...   ...        ...    ...         ...            ...   \n",
       "263000018          0.0   0.0          3      8        1530              0   \n",
       "6600060120         0.0   0.0          3      8        2310              0   \n",
       "1523300141         0.0   0.0          3      7        1020              0   \n",
       "291310100          0.0   0.0          3      8        1600              0   \n",
       "1523300157         0.0   0.0          3      7        1020              0   \n",
       "\n",
       "            yr_built  yr_renovated  zipcode      lat     long  sqft_living15  \\\n",
       "id                                                                             \n",
       "7129300520      1955           0.0    98178  47.5112 -122.257           1340   \n",
       "6414100192      1951        1991.0    98125  47.7210 -122.319           1690   \n",
       "5631500400      1933           0.0    98028  47.7379 -122.233           2720   \n",
       "2487200875      1965           0.0    98136  47.5208 -122.393           1360   \n",
       "1954400510      1987           0.0    98074  47.6168 -122.045           1800   \n",
       "...              ...           ...      ...      ...      ...            ...   \n",
       "263000018       2009           0.0    98103  47.6993 -122.346           1530   \n",
       "6600060120      2014           0.0    98146  47.5107 -122.362           1830   \n",
       "1523300141      2009           0.0    98144  47.5944 -122.299           1020   \n",
       "291310100       2004           0.0    98027  47.5345 -122.069           1410   \n",
       "1523300157      2008           0.0    98144  47.5941 -122.299           1020   \n",
       "\n",
       "            sqft_lot15  \n",
       "id                      \n",
       "7129300520        5650  \n",
       "6414100192        7639  \n",
       "5631500400        8062  \n",
       "2487200875        5000  \n",
       "1954400510        7503  \n",
       "...                ...  \n",
       "263000018         1509  \n",
       "6600060120        7200  \n",
       "1523300141        2007  \n",
       "291310100         1287  \n",
       "1523300157        1357  \n",
       "\n",
       "[21322 rows x 19 columns]"
      ]
     },
     "execution_count": 55,
     "metadata": {},
     "output_type": "execute_result"
    }
   ],
   "source": [
    "baths"
   ]
  },
  {
   "cell_type": "code",
   "execution_count": 56,
   "metadata": {},
   "outputs": [
    {
     "data": {
      "text/html": [
       "<div>\n",
       "<style scoped>\n",
       "    .dataframe tbody tr th:only-of-type {\n",
       "        vertical-align: middle;\n",
       "    }\n",
       "\n",
       "    .dataframe tbody tr th {\n",
       "        vertical-align: top;\n",
       "    }\n",
       "\n",
       "    .dataframe thead th {\n",
       "        text-align: right;\n",
       "    }\n",
       "</style>\n",
       "<table border=\"1\" class=\"dataframe\">\n",
       "  <thead>\n",
       "    <tr style=\"text-align: right;\">\n",
       "      <th></th>\n",
       "      <th>bedrooms</th>\n",
       "      <th>sqft_living</th>\n",
       "      <th>sqft_lot</th>\n",
       "      <th>floors</th>\n",
       "      <th>waterfront</th>\n",
       "      <th>view</th>\n",
       "      <th>condition</th>\n",
       "      <th>grade</th>\n",
       "      <th>sqft_above</th>\n",
       "      <th>sqft_basement</th>\n",
       "      <th>yr_built</th>\n",
       "      <th>yr_renovated</th>\n",
       "      <th>zipcode</th>\n",
       "      <th>lat</th>\n",
       "      <th>long</th>\n",
       "      <th>sqft_living15</th>\n",
       "      <th>sqft_lot15</th>\n",
       "      <th>baths_full</th>\n",
       "      <th>baths_partial</th>\n",
       "    </tr>\n",
       "    <tr>\n",
       "      <th>id</th>\n",
       "      <th></th>\n",
       "      <th></th>\n",
       "      <th></th>\n",
       "      <th></th>\n",
       "      <th></th>\n",
       "      <th></th>\n",
       "      <th></th>\n",
       "      <th></th>\n",
       "      <th></th>\n",
       "      <th></th>\n",
       "      <th></th>\n",
       "      <th></th>\n",
       "      <th></th>\n",
       "      <th></th>\n",
       "      <th></th>\n",
       "      <th></th>\n",
       "      <th></th>\n",
       "      <th></th>\n",
       "      <th></th>\n",
       "    </tr>\n",
       "  </thead>\n",
       "  <tbody>\n",
       "    <tr>\n",
       "      <th>7129300520</th>\n",
       "      <td>3</td>\n",
       "      <td>1180</td>\n",
       "      <td>5650</td>\n",
       "      <td>1.0</td>\n",
       "      <td>0.0</td>\n",
       "      <td>0.0</td>\n",
       "      <td>3</td>\n",
       "      <td>7</td>\n",
       "      <td>1180</td>\n",
       "      <td>0</td>\n",
       "      <td>1955</td>\n",
       "      <td>0.0</td>\n",
       "      <td>98178</td>\n",
       "      <td>47.5112</td>\n",
       "      <td>-122.257</td>\n",
       "      <td>1340</td>\n",
       "      <td>5650</td>\n",
       "      <td>1.0</td>\n",
       "      <td>0.0</td>\n",
       "    </tr>\n",
       "    <tr>\n",
       "      <th>6414100192</th>\n",
       "      <td>3</td>\n",
       "      <td>2570</td>\n",
       "      <td>7242</td>\n",
       "      <td>2.0</td>\n",
       "      <td>0.0</td>\n",
       "      <td>0.0</td>\n",
       "      <td>3</td>\n",
       "      <td>7</td>\n",
       "      <td>2170</td>\n",
       "      <td>400</td>\n",
       "      <td>1951</td>\n",
       "      <td>1991.0</td>\n",
       "      <td>98125</td>\n",
       "      <td>47.7210</td>\n",
       "      <td>-122.319</td>\n",
       "      <td>1690</td>\n",
       "      <td>7639</td>\n",
       "      <td>2.0</td>\n",
       "      <td>1.0</td>\n",
       "    </tr>\n",
       "  </tbody>\n",
       "</table>\n",
       "</div>"
      ],
      "text/plain": [
       "            bedrooms  sqft_living  sqft_lot  floors  waterfront  view  \\\n",
       "id                                                                      \n",
       "7129300520         3         1180      5650     1.0         0.0   0.0   \n",
       "6414100192         3         2570      7242     2.0         0.0   0.0   \n",
       "\n",
       "            condition  grade  sqft_above  sqft_basement  yr_built  \\\n",
       "id                                                                  \n",
       "7129300520          3      7        1180              0      1955   \n",
       "6414100192          3      7        2170            400      1951   \n",
       "\n",
       "            yr_renovated  zipcode      lat     long  sqft_living15  \\\n",
       "id                                                                   \n",
       "7129300520           0.0    98178  47.5112 -122.257           1340   \n",
       "6414100192        1991.0    98125  47.7210 -122.319           1690   \n",
       "\n",
       "            sqft_lot15  baths_full  baths_partial  \n",
       "id                                                 \n",
       "7129300520        5650         1.0            0.0  \n",
       "6414100192        7639         2.0            1.0  "
      ]
     },
     "execution_count": 56,
     "metadata": {},
     "output_type": "execute_result"
    }
   ],
   "source": [
    "# Try full vs partial baths\n",
    "\n",
    "# Try group the bathrooms together regardless of size.\n",
    "\n",
    "y = baths['price']\n",
    "X = baths.copy()\n",
    "X['baths_full'] = X['bathrooms'] // 1\n",
    "X['baths_partial'] = np.ceil(X['bathrooms'] % 1)\n",
    "X.drop(columns=['price', 'bathrooms'], inplace = True)\n",
    "X.head(2)"
   ]
  },
  {
   "cell_type": "code",
   "execution_count": 57,
   "metadata": {},
   "outputs": [
    {
     "data": {
      "text/plain": [
       "{'r2_adjusted': 0.9130398053019056,\n",
       " 'train_rmse': 188131.8239856115,\n",
       " 'test_rmse': 189368.63442949863,\n",
       " 'diff_rmse': 1236.8104438871378}"
      ]
     },
     "execution_count": 57,
     "metadata": {},
     "output_type": "execute_result"
    }
   ],
   "source": [
    "quicktest(X, y)\n"
   ]
  },
  {
   "cell_type": "markdown",
   "metadata": {},
   "source": [
    "For our use case it would be more convenient to be able to talk about the value of an additional bathroom or partial bathroom than the value of the 3rd or 4th bathroom so we will use keep this iteration"
   ]
  },
  {
   "cell_type": "code",
   "execution_count": 58,
   "metadata": {},
   "outputs": [
    {
     "data": {
      "text/html": [
       "<div>\n",
       "<style scoped>\n",
       "    .dataframe tbody tr th:only-of-type {\n",
       "        vertical-align: middle;\n",
       "    }\n",
       "\n",
       "    .dataframe tbody tr th {\n",
       "        vertical-align: top;\n",
       "    }\n",
       "\n",
       "    .dataframe thead th {\n",
       "        text-align: right;\n",
       "    }\n",
       "</style>\n",
       "<table border=\"1\" class=\"dataframe\">\n",
       "  <thead>\n",
       "    <tr style=\"text-align: right;\">\n",
       "      <th></th>\n",
       "      <th>bedrooms</th>\n",
       "      <th>sqft_living</th>\n",
       "      <th>sqft_lot</th>\n",
       "      <th>floors</th>\n",
       "      <th>waterfront</th>\n",
       "      <th>view</th>\n",
       "      <th>condition</th>\n",
       "      <th>grade</th>\n",
       "      <th>sqft_above</th>\n",
       "      <th>sqft_basement</th>\n",
       "      <th>yr_built</th>\n",
       "      <th>yr_renovated</th>\n",
       "      <th>zipcode</th>\n",
       "      <th>lat</th>\n",
       "      <th>long</th>\n",
       "      <th>sqft_living15</th>\n",
       "      <th>sqft_lot15</th>\n",
       "      <th>baths_full</th>\n",
       "      <th>baths_partial</th>\n",
       "    </tr>\n",
       "    <tr>\n",
       "      <th>id</th>\n",
       "      <th></th>\n",
       "      <th></th>\n",
       "      <th></th>\n",
       "      <th></th>\n",
       "      <th></th>\n",
       "      <th></th>\n",
       "      <th></th>\n",
       "      <th></th>\n",
       "      <th></th>\n",
       "      <th></th>\n",
       "      <th></th>\n",
       "      <th></th>\n",
       "      <th></th>\n",
       "      <th></th>\n",
       "      <th></th>\n",
       "      <th></th>\n",
       "      <th></th>\n",
       "      <th></th>\n",
       "      <th></th>\n",
       "    </tr>\n",
       "  </thead>\n",
       "  <tbody>\n",
       "    <tr>\n",
       "      <th>7129300520</th>\n",
       "      <td>3</td>\n",
       "      <td>1180</td>\n",
       "      <td>5650</td>\n",
       "      <td>1.0</td>\n",
       "      <td>0.0</td>\n",
       "      <td>0.0</td>\n",
       "      <td>3</td>\n",
       "      <td>7</td>\n",
       "      <td>1180</td>\n",
       "      <td>0</td>\n",
       "      <td>1955</td>\n",
       "      <td>0.0</td>\n",
       "      <td>98178</td>\n",
       "      <td>47.5112</td>\n",
       "      <td>-122.257</td>\n",
       "      <td>1340</td>\n",
       "      <td>5650</td>\n",
       "      <td>1.0</td>\n",
       "      <td>0.0</td>\n",
       "    </tr>\n",
       "    <tr>\n",
       "      <th>6414100192</th>\n",
       "      <td>3</td>\n",
       "      <td>2570</td>\n",
       "      <td>7242</td>\n",
       "      <td>2.0</td>\n",
       "      <td>0.0</td>\n",
       "      <td>0.0</td>\n",
       "      <td>3</td>\n",
       "      <td>7</td>\n",
       "      <td>2170</td>\n",
       "      <td>400</td>\n",
       "      <td>1951</td>\n",
       "      <td>1991.0</td>\n",
       "      <td>98125</td>\n",
       "      <td>47.7210</td>\n",
       "      <td>-122.319</td>\n",
       "      <td>1690</td>\n",
       "      <td>7639</td>\n",
       "      <td>2.0</td>\n",
       "      <td>1.0</td>\n",
       "    </tr>\n",
       "  </tbody>\n",
       "</table>\n",
       "</div>"
      ],
      "text/plain": [
       "            bedrooms  sqft_living  sqft_lot  floors  waterfront  view  \\\n",
       "id                                                                      \n",
       "7129300520         3         1180      5650     1.0         0.0   0.0   \n",
       "6414100192         3         2570      7242     2.0         0.0   0.0   \n",
       "\n",
       "            condition  grade  sqft_above  sqft_basement  yr_built  \\\n",
       "id                                                                  \n",
       "7129300520          3      7        1180              0      1955   \n",
       "6414100192          3      7        2170            400      1951   \n",
       "\n",
       "            yr_renovated  zipcode      lat     long  sqft_living15  \\\n",
       "id                                                                   \n",
       "7129300520           0.0    98178  47.5112 -122.257           1340   \n",
       "6414100192        1991.0    98125  47.7210 -122.319           1690   \n",
       "\n",
       "            sqft_lot15  baths_full  baths_partial  \n",
       "id                                                 \n",
       "7129300520        5650         1.0            0.0  \n",
       "6414100192        7639         2.0            1.0  "
      ]
     },
     "execution_count": 58,
     "metadata": {},
     "output_type": "execute_result"
    }
   ],
   "source": [
    "baths['baths_full'] = baths['bathrooms'] // 1\n",
    "baths['baths_partial'] = np.ceil(baths['bathrooms'] % 1)\n",
    "y = baths['price']\n",
    "X = baths.drop(columns=['price', 'bathrooms'])\n",
    "X.head(2)"
   ]
  },
  {
   "cell_type": "code",
   "execution_count": 59,
   "metadata": {},
   "outputs": [
    {
     "data": {
      "text/plain": [
       "{'r2_adjusted': 0.9130398053019056,\n",
       " 'train_rmse': 188131.8239856115,\n",
       " 'test_rmse': 189368.63442949863,\n",
       " 'diff_rmse': 1236.8104438871378}"
      ]
     },
     "execution_count": 59,
     "metadata": {},
     "output_type": "execute_result"
    }
   ],
   "source": [
    "quicktest(X, y, name='2 (Bathrooms dropped and divided)')"
   ]
  },
  {
   "cell_type": "code",
   "execution_count": 60,
   "metadata": {},
   "outputs": [
    {
     "data": {
      "text/html": [
       "<div>\n",
       "<style scoped>\n",
       "    .dataframe tbody tr th:only-of-type {\n",
       "        vertical-align: middle;\n",
       "    }\n",
       "\n",
       "    .dataframe tbody tr th {\n",
       "        vertical-align: top;\n",
       "    }\n",
       "\n",
       "    .dataframe thead th {\n",
       "        text-align: right;\n",
       "    }\n",
       "</style>\n",
       "<table border=\"1\" class=\"dataframe\">\n",
       "  <thead>\n",
       "    <tr style=\"text-align: right;\">\n",
       "      <th></th>\n",
       "      <th>r2_adjusted</th>\n",
       "      <th>test_rmse</th>\n",
       "      <th>train_rmse</th>\n",
       "      <th>diff_rmse</th>\n",
       "    </tr>\n",
       "  </thead>\n",
       "  <tbody>\n",
       "    <tr>\n",
       "      <th>baseline</th>\n",
       "      <td>0.905289</td>\n",
       "      <td>201209.512420</td>\n",
       "      <td>202862.451447</td>\n",
       "      <td>1652.939027</td>\n",
       "    </tr>\n",
       "    <tr>\n",
       "      <th>1 (Bedrooms Dropped)</th>\n",
       "      <td>0.906003</td>\n",
       "      <td>199778.707025</td>\n",
       "      <td>201306.858567</td>\n",
       "      <td>1528.151542</td>\n",
       "    </tr>\n",
       "    <tr>\n",
       "      <th>2 (Bathrooms dropped and divided)</th>\n",
       "      <td>0.913040</td>\n",
       "      <td>188131.823986</td>\n",
       "      <td>189368.634429</td>\n",
       "      <td>1236.810444</td>\n",
       "    </tr>\n",
       "  </tbody>\n",
       "</table>\n",
       "</div>"
      ],
      "text/plain": [
       "                                   r2_adjusted      test_rmse     train_rmse  \\\n",
       "baseline                              0.905289  201209.512420  202862.451447   \n",
       "1 (Bedrooms Dropped)                  0.906003  199778.707025  201306.858567   \n",
       "2 (Bathrooms dropped and divided)     0.913040  188131.823986  189368.634429   \n",
       "\n",
       "                                     diff_rmse  \n",
       "baseline                           1652.939027  \n",
       "1 (Bedrooms Dropped)               1528.151542  \n",
       "2 (Bathrooms dropped and divided)  1236.810444  "
      ]
     },
     "execution_count": 60,
     "metadata": {},
     "output_type": "execute_result"
    }
   ],
   "source": [
    "model_report()"
   ]
  },
  {
   "cell_type": "markdown",
   "metadata": {},
   "source": [
    "## sqft _living"
   ]
  },
  {
   "cell_type": "code",
   "execution_count": 61,
   "metadata": {},
   "outputs": [],
   "source": [
    "#start from where the last model left off\n",
    "sl = baths.copy()"
   ]
  },
  {
   "cell_type": "code",
   "execution_count": 62,
   "metadata": {},
   "outputs": [
    {
     "data": {
      "text/plain": [
       "<matplotlib.axes._subplots.AxesSubplot at 0x11c4e0ac0>"
      ]
     },
     "execution_count": 62,
     "metadata": {},
     "output_type": "execute_result"
    },
    {
     "data": {
      "image/png": "[encoded data removed]",
      "text/plain": [
       "<Figure size 432x288 with 1 Axes>"
      ]
     },
     "metadata": {
      "needs_background": "light"
     },
     "output_type": "display_data"
    }
   ],
   "source": [
    "sl['sqft_living'].hist()"
   ]
  },
  {
   "cell_type": "code",
   "execution_count": 63,
   "metadata": {},
   "outputs": [
    {
     "data": {
      "text/plain": [
       "<matplotlib.collections.PathCollection at 0x120186d90>"
      ]
     },
     "execution_count": 63,
     "metadata": {},
     "output_type": "execute_result"
    },
    {
     "data": {
      "image/png": "[encoded data removed]",
      "text/plain": [
       "<Figure size 432x288 with 1 Axes>"
      ]
     },
     "metadata": {
      "needs_background": "light"
     },
     "output_type": "display_data"
    }
   ],
   "source": [
    "plt.scatter(sl['sqft_living'], sl['price'])"
   ]
  },
  {
   "cell_type": "code",
   "execution_count": 64,
   "metadata": {},
   "outputs": [
    {
     "data": {
      "text/plain": [
       "<matplotlib.collections.PathCollection at 0x120a4a070>"
      ]
     },
     "execution_count": 64,
     "metadata": {},
     "output_type": "execute_result"
    },
    {
     "data": {
      "image/png": "[encoded data removed]",
      "text/plain": [
       "<Figure size 432x288 with 1 Axes>"
      ]
     },
     "metadata": {
      "needs_background": "light"
     },
     "output_type": "display_data"
    }
   ],
   "source": [
    "plt.scatter(np.log(sl['sqft_living']), sl['price'])"
   ]
  },
  {
   "cell_type": "markdown",
   "metadata": {},
   "source": [
    "We can see that the data starts to get sparse somewhere between 5k and 6k.  Having less data will make our predictions in that range less accurate.  Lets drop above 6k sqft and see what it does to our model."
   ]
  },
  {
   "cell_type": "code",
   "execution_count": 65,
   "metadata": {},
   "outputs": [
    {
     "data": {
      "text/plain": [
       "{'r2_adjusted': 0.9159839868025383,\n",
       " 'train_rmse': 182208.2078825294,\n",
       " 'test_rmse': 183512.81743330898,\n",
       " 'diff_rmse': 1304.609550779598}"
      ]
     },
     "execution_count": 65,
     "metadata": {},
     "output_type": "execute_result"
    }
   ],
   "source": [
    "X = sl[sl['sqft_living'] <= 6000].copy()\n",
    "y = X['price']\n",
    "X.drop(['price'], axis=1, inplace=True)\n",
    "\n",
    "quicktest(X, y)"
   ]
  },
  {
   "cell_type": "code",
   "execution_count": 66,
   "metadata": {},
   "outputs": [
    {
     "data": {
      "text/plain": [
       "{'r2_adjusted': 0.9186388883241179,\n",
       " 'train_rmse': 179287.33441873308,\n",
       " 'test_rmse': 180450.54605643457,\n",
       " 'diff_rmse': 1163.21163770149}"
      ]
     },
     "execution_count": 66,
     "metadata": {},
     "output_type": "execute_result"
    }
   ],
   "source": [
    "# try with the dropped rows and sqft_living log transformed\n",
    "X=sl[sl['sqft_living'] <= 6000].copy()\n",
    "y = X['price']\n",
    "X['sqft_living_log'] = np.log(X['sqft_living'])\n",
    "X.drop(columns=['price','sqft_living'], inplace=True)\n",
    "quicktest(X, y)"
   ]
  },
  {
   "cell_type": "code",
   "execution_count": 67,
   "metadata": {},
   "outputs": [
    {
     "data": {
      "text/plain": [
       "{'r2_adjusted': 0.9168464111574192,\n",
       " 'train_rmse': 183928.21845116038,\n",
       " 'test_rmse': 185051.15182112326,\n",
       " 'diff_rmse': 1122.933369962877}"
      ]
     },
     "execution_count": 67,
     "metadata": {},
     "output_type": "execute_result"
    }
   ],
   "source": [
    "# try with sqft_living log transformed\n",
    "X=sl.copy()\n",
    "X['sqft_living_log'] = np.log(sl['sqft_living'])\n",
    "X.drop(columns = ['price', 'sqft_living'], inplace=True)\n",
    "y = sl['price']\n",
    "quicktest(X, y)"
   ]
  },
  {
   "cell_type": "markdown",
   "metadata": {},
   "source": [
    "We will keep the log transform and the dropped rows"
   ]
  },
  {
   "cell_type": "code",
   "execution_count": 68,
   "metadata": {},
   "outputs": [
    {
     "data": {
      "text/plain": [
       "{'r2_adjusted': 0.9186388883241179,\n",
       " 'train_rmse': 179287.33441873308,\n",
       " 'test_rmse': 180450.54605643457,\n",
       " 'diff_rmse': 1163.21163770149}"
      ]
     },
     "execution_count": 68,
     "metadata": {},
     "output_type": "execute_result"
    }
   ],
   "source": [
    "# try with the dropped rows and sqft_living log transformed\n",
    "sl=sl[sl['sqft_living'] <= 6000].copy()\n",
    "y = sl['price']\n",
    "sl['sqft_living_log'] = np.log(sl['sqft_living'])\n",
    "sl.drop('sqft_living', axis=1, inplace=True)\n",
    "\n",
    "X = sl.drop(columns=['price'])\n",
    "quicktest(X, y, name='3 (sqft_living outliers and log)')"
   ]
  },
  {
   "cell_type": "code",
   "execution_count": 69,
   "metadata": {},
   "outputs": [
    {
     "data": {
      "text/html": [
       "<div>\n",
       "<style scoped>\n",
       "    .dataframe tbody tr th:only-of-type {\n",
       "        vertical-align: middle;\n",
       "    }\n",
       "\n",
       "    .dataframe tbody tr th {\n",
       "        vertical-align: top;\n",
       "    }\n",
       "\n",
       "    .dataframe thead th {\n",
       "        text-align: right;\n",
       "    }\n",
       "</style>\n",
       "<table border=\"1\" class=\"dataframe\">\n",
       "  <thead>\n",
       "    <tr style=\"text-align: right;\">\n",
       "      <th></th>\n",
       "      <th>r2_adjusted</th>\n",
       "      <th>test_rmse</th>\n",
       "      <th>train_rmse</th>\n",
       "      <th>diff_rmse</th>\n",
       "    </tr>\n",
       "  </thead>\n",
       "  <tbody>\n",
       "    <tr>\n",
       "      <th>baseline</th>\n",
       "      <td>0.905289</td>\n",
       "      <td>201209.512420</td>\n",
       "      <td>202862.451447</td>\n",
       "      <td>1652.939027</td>\n",
       "    </tr>\n",
       "    <tr>\n",
       "      <th>1 (Bedrooms Dropped)</th>\n",
       "      <td>0.906003</td>\n",
       "      <td>199778.707025</td>\n",
       "      <td>201306.858567</td>\n",
       "      <td>1528.151542</td>\n",
       "    </tr>\n",
       "    <tr>\n",
       "      <th>2 (Bathrooms dropped and divided)</th>\n",
       "      <td>0.913040</td>\n",
       "      <td>188131.823986</td>\n",
       "      <td>189368.634429</td>\n",
       "      <td>1236.810444</td>\n",
       "    </tr>\n",
       "    <tr>\n",
       "      <th>3 (sqft_living outliers and log)</th>\n",
       "      <td>0.918639</td>\n",
       "      <td>179287.334419</td>\n",
       "      <td>180450.546056</td>\n",
       "      <td>1163.211638</td>\n",
       "    </tr>\n",
       "  </tbody>\n",
       "</table>\n",
       "</div>"
      ],
      "text/plain": [
       "                                   r2_adjusted      test_rmse     train_rmse  \\\n",
       "baseline                              0.905289  201209.512420  202862.451447   \n",
       "1 (Bedrooms Dropped)                  0.906003  199778.707025  201306.858567   \n",
       "2 (Bathrooms dropped and divided)     0.913040  188131.823986  189368.634429   \n",
       "3 (sqft_living outliers and log)      0.918639  179287.334419  180450.546056   \n",
       "\n",
       "                                     diff_rmse  \n",
       "baseline                           1652.939027  \n",
       "1 (Bedrooms Dropped)               1528.151542  \n",
       "2 (Bathrooms dropped and divided)  1236.810444  \n",
       "3 (sqft_living outliers and log)   1163.211638  "
      ]
     },
     "execution_count": 69,
     "metadata": {},
     "output_type": "execute_result"
    }
   ],
   "source": [
    "model_report()"
   ]
  },
  {
   "cell_type": "markdown",
   "metadata": {},
   "source": [
    "## sqft_lot"
   ]
  },
  {
   "cell_type": "code",
   "execution_count": 70,
   "metadata": {},
   "outputs": [],
   "source": [
    "lot = sl.copy()"
   ]
  },
  {
   "cell_type": "code",
   "execution_count": 71,
   "metadata": {},
   "outputs": [
    {
     "data": {
      "text/plain": [
       "<matplotlib.axes._subplots.AxesSubplot at 0x11bc21fd0>"
      ]
     },
     "execution_count": 71,
     "metadata": {},
     "output_type": "execute_result"
    },
    {
     "data": {
      "image/png": "[encoded data removed]",
      "text/plain": [
       "<Figure size 432x288 with 1 Axes>"
      ]
     },
     "metadata": {
      "needs_background": "light"
     },
     "output_type": "display_data"
    }
   ],
   "source": [
    "lot['sqft_lot'].hist()"
   ]
  },
  {
   "cell_type": "code",
   "execution_count": 72,
   "metadata": {},
   "outputs": [
    {
     "data": {
      "text/plain": [
       "<matplotlib.collections.PathCollection at 0x1200a6340>"
      ]
     },
     "execution_count": 72,
     "metadata": {},
     "output_type": "execute_result"
    },
    {
     "data": {
      "image/png": "[encoded data removed]",
      "text/plain": [
       "<Figure size 432x288 with 1 Axes>"
      ]
     },
     "metadata": {
      "needs_background": "light"
     },
     "output_type": "display_data"
    }
   ],
   "source": [
    "plt.scatter(lot['sqft_lot'], lot['price'])"
   ]
  },
  {
   "cell_type": "code",
   "execution_count": 73,
   "metadata": {},
   "outputs": [
    {
     "data": {
      "text/plain": [
       "<matplotlib.collections.PathCollection at 0x120cd3310>"
      ]
     },
     "execution_count": 73,
     "metadata": {},
     "output_type": "execute_result"
    },
    {
     "data": {
      "image/png": "[encoded data removed]",
      "text/plain": [
       "<Figure size 432x288 with 1 Axes>"
      ]
     },
     "metadata": {
      "needs_background": "light"
     },
     "output_type": "display_data"
    }
   ],
   "source": [
    "# drop the really big lots\n",
    "color = [-1 if x > 500000 else 0 for x in lot['sqft_lot']]\n",
    "\n",
    "plt.scatter(lot['sqft_lot'], lot['price'], c=color)"
   ]
  },
  {
   "cell_type": "code",
   "execution_count": 74,
   "metadata": {},
   "outputs": [
    {
     "data": {
      "text/plain": [
       "<matplotlib.collections.PathCollection at 0x12102a880>"
      ]
     },
     "execution_count": 74,
     "metadata": {},
     "output_type": "execute_result"
    },
    {
     "data": {
      "image/png": "[encoded data removed]",
      "text/plain": [
       "<Figure size 432x288 with 1 Axes>"
      ]
     },
     "metadata": {
      "needs_background": "light"
     },
     "output_type": "display_data"
    }
   ],
   "source": [
    "lot = lot[lot['sqft_lot'] < 500000]\n",
    "plt.scatter(lot['sqft_lot'], lot['price'])"
   ]
  },
  {
   "cell_type": "code",
   "execution_count": 75,
   "metadata": {},
   "outputs": [
    {
     "data": {
      "text/plain": [
       "{'r2_adjusted': 0.9187166328800097,\n",
       " 'train_rmse': 179105.1972148604,\n",
       " 'test_rmse': 180300.1884870792,\n",
       " 'diff_rmse': 1194.9912722187873}"
      ]
     },
     "execution_count": 75,
     "metadata": {},
     "output_type": "execute_result"
    }
   ],
   "source": [
    "y = lot['price']\n",
    "X = lot.drop(columns=['price'])\n",
    "quicktest(X, y)"
   ]
  },
  {
   "cell_type": "markdown",
   "metadata": {},
   "source": [
    "That didn't really help.\n",
    "\n",
    "Try log transform."
   ]
  },
  {
   "cell_type": "code",
   "execution_count": 76,
   "metadata": {},
   "outputs": [
    {
     "data": {
      "text/plain": [
       "<matplotlib.collections.PathCollection at 0x123aa7f70>"
      ]
     },
     "execution_count": 76,
     "metadata": {},
     "output_type": "execute_result"
    },
    {
     "data": {
      "image/png": "[encoded data removed]",
      "text/plain": [
       "<Figure size 432x288 with 1 Axes>"
      ]
     },
     "metadata": {
      "needs_background": "light"
     },
     "output_type": "display_data"
    }
   ],
   "source": [
    "plt.scatter(np.log(lot['sqft_lot']), lot['price'])"
   ]
  },
  {
   "cell_type": "code",
   "execution_count": 77,
   "metadata": {},
   "outputs": [
    {
     "data": {
      "text/plain": [
       "(array([ 240.,  997., 2129., 8525., 6552., 1260.,  923.,  304.,  255.,\n",
       "          79.]),\n",
       " array([ 6.25382881,  6.94059643,  7.62736405,  8.31413167,  9.00089929,\n",
       "         9.68766691, 10.37443453, 11.06120215, 11.74796977, 12.43473739,\n",
       "        13.12150501]),\n",
       " <a list of 10 Patch objects>)"
      ]
     },
     "execution_count": 77,
     "metadata": {},
     "output_type": "execute_result"
    },
    {
     "data": {
      "image/png": "[encoded data removed]",
      "text/plain": [
       "<Figure size 432x288 with 1 Axes>"
      ]
     },
     "metadata": {
      "needs_background": "light"
     },
     "output_type": "display_data"
    }
   ],
   "source": [
    "plt.hist(np.log(lot['sqft_lot']))"
   ]
  },
  {
   "cell_type": "markdown",
   "metadata": {},
   "source": [
    "That is much more normal.  Check the model."
   ]
  },
  {
   "cell_type": "code",
   "execution_count": 78,
   "metadata": {},
   "outputs": [
    {
     "data": {
      "text/html": [
       "<div>\n",
       "<style scoped>\n",
       "    .dataframe tbody tr th:only-of-type {\n",
       "        vertical-align: middle;\n",
       "    }\n",
       "\n",
       "    .dataframe tbody tr th {\n",
       "        vertical-align: top;\n",
       "    }\n",
       "\n",
       "    .dataframe thead th {\n",
       "        text-align: right;\n",
       "    }\n",
       "</style>\n",
       "<table border=\"1\" class=\"dataframe\">\n",
       "  <thead>\n",
       "    <tr style=\"text-align: right;\">\n",
       "      <th></th>\n",
       "      <th>bathroom_count</th>\n",
       "      <th>bathrooms</th>\n",
       "      <th>baths_2.0</th>\n",
       "      <th>baths_3.0</th>\n",
       "      <th>baths_4.0</th>\n",
       "      <th>baths_5.0</th>\n",
       "      <th>bedrooms</th>\n",
       "      <th>condition</th>\n",
       "      <th>floors</th>\n",
       "      <th>grade</th>\n",
       "      <th>lat</th>\n",
       "      <th>long</th>\n",
       "      <th>price</th>\n",
       "      <th>sqft_above</th>\n",
       "      <th>sqft_basement</th>\n",
       "      <th>sqft_living</th>\n",
       "      <th>sqft_living15</th>\n",
       "      <th>sqft_lot</th>\n",
       "      <th>sqft_lot15</th>\n",
       "      <th>view</th>\n",
       "      <th>waterfront</th>\n",
       "      <th>yr_built</th>\n",
       "      <th>yr_renovated</th>\n",
       "      <th>zipcode</th>\n",
       "    </tr>\n",
       "    <tr>\n",
       "      <th>id</th>\n",
       "      <th></th>\n",
       "      <th></th>\n",
       "      <th></th>\n",
       "      <th></th>\n",
       "      <th></th>\n",
       "      <th></th>\n",
       "      <th></th>\n",
       "      <th></th>\n",
       "      <th></th>\n",
       "      <th></th>\n",
       "      <th></th>\n",
       "      <th></th>\n",
       "      <th></th>\n",
       "      <th></th>\n",
       "      <th></th>\n",
       "      <th></th>\n",
       "      <th></th>\n",
       "      <th></th>\n",
       "      <th></th>\n",
       "      <th></th>\n",
       "      <th></th>\n",
       "      <th></th>\n",
       "      <th></th>\n",
       "      <th></th>\n",
       "    </tr>\n",
       "  </thead>\n",
       "  <tbody>\n",
       "    <tr>\n",
       "      <th>7129300520</th>\n",
       "      <td>1.0</td>\n",
       "      <td>1.00</td>\n",
       "      <td>0.0</td>\n",
       "      <td>0.0</td>\n",
       "      <td>0.0</td>\n",
       "      <td>0.0</td>\n",
       "      <td>3</td>\n",
       "      <td>3</td>\n",
       "      <td>1.0</td>\n",
       "      <td>7</td>\n",
       "      <td>47.5112</td>\n",
       "      <td>-122.257</td>\n",
       "      <td>221900.0</td>\n",
       "      <td>1180</td>\n",
       "      <td>0</td>\n",
       "      <td>1180</td>\n",
       "      <td>1340</td>\n",
       "      <td>5650</td>\n",
       "      <td>5650</td>\n",
       "      <td>0.0</td>\n",
       "      <td>0.0</td>\n",
       "      <td>1955</td>\n",
       "      <td>0.0</td>\n",
       "      <td>98178</td>\n",
       "    </tr>\n",
       "    <tr>\n",
       "      <th>6414100192</th>\n",
       "      <td>3.0</td>\n",
       "      <td>2.25</td>\n",
       "      <td>0.0</td>\n",
       "      <td>1.0</td>\n",
       "      <td>0.0</td>\n",
       "      <td>0.0</td>\n",
       "      <td>3</td>\n",
       "      <td>3</td>\n",
       "      <td>2.0</td>\n",
       "      <td>7</td>\n",
       "      <td>47.7210</td>\n",
       "      <td>-122.319</td>\n",
       "      <td>538000.0</td>\n",
       "      <td>2170</td>\n",
       "      <td>400</td>\n",
       "      <td>2570</td>\n",
       "      <td>1690</td>\n",
       "      <td>7242</td>\n",
       "      <td>7639</td>\n",
       "      <td>0.0</td>\n",
       "      <td>0.0</td>\n",
       "      <td>1951</td>\n",
       "      <td>1991.0</td>\n",
       "      <td>98125</td>\n",
       "    </tr>\n",
       "    <tr>\n",
       "      <th>5631500400</th>\n",
       "      <td>1.0</td>\n",
       "      <td>1.00</td>\n",
       "      <td>0.0</td>\n",
       "      <td>0.0</td>\n",
       "      <td>0.0</td>\n",
       "      <td>0.0</td>\n",
       "      <td>2</td>\n",
       "      <td>3</td>\n",
       "      <td>1.0</td>\n",
       "      <td>6</td>\n",
       "      <td>47.7379</td>\n",
       "      <td>-122.233</td>\n",
       "      <td>180000.0</td>\n",
       "      <td>770</td>\n",
       "      <td>0</td>\n",
       "      <td>770</td>\n",
       "      <td>2720</td>\n",
       "      <td>10000</td>\n",
       "      <td>8062</td>\n",
       "      <td>0.0</td>\n",
       "      <td>0.0</td>\n",
       "      <td>1933</td>\n",
       "      <td>0.0</td>\n",
       "      <td>98028</td>\n",
       "    </tr>\n",
       "    <tr>\n",
       "      <th>2487200875</th>\n",
       "      <td>3.0</td>\n",
       "      <td>3.00</td>\n",
       "      <td>0.0</td>\n",
       "      <td>1.0</td>\n",
       "      <td>0.0</td>\n",
       "      <td>0.0</td>\n",
       "      <td>4</td>\n",
       "      <td>5</td>\n",
       "      <td>1.0</td>\n",
       "      <td>7</td>\n",
       "      <td>47.5208</td>\n",
       "      <td>-122.393</td>\n",
       "      <td>604000.0</td>\n",
       "      <td>1050</td>\n",
       "      <td>910</td>\n",
       "      <td>1960</td>\n",
       "      <td>1360</td>\n",
       "      <td>5000</td>\n",
       "      <td>5000</td>\n",
       "      <td>0.0</td>\n",
       "      <td>0.0</td>\n",
       "      <td>1965</td>\n",
       "      <td>0.0</td>\n",
       "      <td>98136</td>\n",
       "    </tr>\n",
       "    <tr>\n",
       "      <th>1954400510</th>\n",
       "      <td>2.0</td>\n",
       "      <td>2.00</td>\n",
       "      <td>1.0</td>\n",
       "      <td>0.0</td>\n",
       "      <td>0.0</td>\n",
       "      <td>0.0</td>\n",
       "      <td>3</td>\n",
       "      <td>3</td>\n",
       "      <td>1.0</td>\n",
       "      <td>8</td>\n",
       "      <td>47.6168</td>\n",
       "      <td>-122.045</td>\n",
       "      <td>510000.0</td>\n",
       "      <td>1680</td>\n",
       "      <td>0</td>\n",
       "      <td>1680</td>\n",
       "      <td>1800</td>\n",
       "      <td>8080</td>\n",
       "      <td>7503</td>\n",
       "      <td>0.0</td>\n",
       "      <td>0.0</td>\n",
       "      <td>1987</td>\n",
       "      <td>0.0</td>\n",
       "      <td>98074</td>\n",
       "    </tr>\n",
       "    <tr>\n",
       "      <th>...</th>\n",
       "      <td>...</td>\n",
       "      <td>...</td>\n",
       "      <td>...</td>\n",
       "      <td>...</td>\n",
       "      <td>...</td>\n",
       "      <td>...</td>\n",
       "      <td>...</td>\n",
       "      <td>...</td>\n",
       "      <td>...</td>\n",
       "      <td>...</td>\n",
       "      <td>...</td>\n",
       "      <td>...</td>\n",
       "      <td>...</td>\n",
       "      <td>...</td>\n",
       "      <td>...</td>\n",
       "      <td>...</td>\n",
       "      <td>...</td>\n",
       "      <td>...</td>\n",
       "      <td>...</td>\n",
       "      <td>...</td>\n",
       "      <td>...</td>\n",
       "      <td>...</td>\n",
       "      <td>...</td>\n",
       "      <td>...</td>\n",
       "    </tr>\n",
       "    <tr>\n",
       "      <th>263000018</th>\n",
       "      <td>3.0</td>\n",
       "      <td>2.50</td>\n",
       "      <td>0.0</td>\n",
       "      <td>1.0</td>\n",
       "      <td>0.0</td>\n",
       "      <td>0.0</td>\n",
       "      <td>3</td>\n",
       "      <td>3</td>\n",
       "      <td>3.0</td>\n",
       "      <td>8</td>\n",
       "      <td>47.6993</td>\n",
       "      <td>-122.346</td>\n",
       "      <td>360000.0</td>\n",
       "      <td>1530</td>\n",
       "      <td>0</td>\n",
       "      <td>1530</td>\n",
       "      <td>1530</td>\n",
       "      <td>1131</td>\n",
       "      <td>1509</td>\n",
       "      <td>0.0</td>\n",
       "      <td>0.0</td>\n",
       "      <td>2009</td>\n",
       "      <td>0.0</td>\n",
       "      <td>98103</td>\n",
       "    </tr>\n",
       "    <tr>\n",
       "      <th>6600060120</th>\n",
       "      <td>3.0</td>\n",
       "      <td>2.50</td>\n",
       "      <td>0.0</td>\n",
       "      <td>1.0</td>\n",
       "      <td>0.0</td>\n",
       "      <td>0.0</td>\n",
       "      <td>4</td>\n",
       "      <td>3</td>\n",
       "      <td>2.0</td>\n",
       "      <td>8</td>\n",
       "      <td>47.5107</td>\n",
       "      <td>-122.362</td>\n",
       "      <td>400000.0</td>\n",
       "      <td>2310</td>\n",
       "      <td>0</td>\n",
       "      <td>2310</td>\n",
       "      <td>1830</td>\n",
       "      <td>5813</td>\n",
       "      <td>7200</td>\n",
       "      <td>0.0</td>\n",
       "      <td>0.0</td>\n",
       "      <td>2014</td>\n",
       "      <td>0.0</td>\n",
       "      <td>98146</td>\n",
       "    </tr>\n",
       "    <tr>\n",
       "      <th>1523300141</th>\n",
       "      <td>1.0</td>\n",
       "      <td>0.75</td>\n",
       "      <td>0.0</td>\n",
       "      <td>0.0</td>\n",
       "      <td>0.0</td>\n",
       "      <td>0.0</td>\n",
       "      <td>2</td>\n",
       "      <td>3</td>\n",
       "      <td>2.0</td>\n",
       "      <td>7</td>\n",
       "      <td>47.5944</td>\n",
       "      <td>-122.299</td>\n",
       "      <td>402101.0</td>\n",
       "      <td>1020</td>\n",
       "      <td>0</td>\n",
       "      <td>1020</td>\n",
       "      <td>1020</td>\n",
       "      <td>1350</td>\n",
       "      <td>2007</td>\n",
       "      <td>0.0</td>\n",
       "      <td>0.0</td>\n",
       "      <td>2009</td>\n",
       "      <td>0.0</td>\n",
       "      <td>98144</td>\n",
       "    </tr>\n",
       "    <tr>\n",
       "      <th>291310100</th>\n",
       "      <td>3.0</td>\n",
       "      <td>2.50</td>\n",
       "      <td>0.0</td>\n",
       "      <td>1.0</td>\n",
       "      <td>0.0</td>\n",
       "      <td>0.0</td>\n",
       "      <td>3</td>\n",
       "      <td>3</td>\n",
       "      <td>2.0</td>\n",
       "      <td>8</td>\n",
       "      <td>47.5345</td>\n",
       "      <td>-122.069</td>\n",
       "      <td>400000.0</td>\n",
       "      <td>1600</td>\n",
       "      <td>0</td>\n",
       "      <td>1600</td>\n",
       "      <td>1410</td>\n",
       "      <td>2388</td>\n",
       "      <td>1287</td>\n",
       "      <td>0.0</td>\n",
       "      <td>0.0</td>\n",
       "      <td>2004</td>\n",
       "      <td>0.0</td>\n",
       "      <td>98027</td>\n",
       "    </tr>\n",
       "    <tr>\n",
       "      <th>1523300157</th>\n",
       "      <td>1.0</td>\n",
       "      <td>0.75</td>\n",
       "      <td>0.0</td>\n",
       "      <td>0.0</td>\n",
       "      <td>0.0</td>\n",
       "      <td>0.0</td>\n",
       "      <td>2</td>\n",
       "      <td>3</td>\n",
       "      <td>2.0</td>\n",
       "      <td>7</td>\n",
       "      <td>47.5941</td>\n",
       "      <td>-122.299</td>\n",
       "      <td>325000.0</td>\n",
       "      <td>1020</td>\n",
       "      <td>0</td>\n",
       "      <td>1020</td>\n",
       "      <td>1020</td>\n",
       "      <td>1076</td>\n",
       "      <td>1357</td>\n",
       "      <td>0.0</td>\n",
       "      <td>0.0</td>\n",
       "      <td>2008</td>\n",
       "      <td>0.0</td>\n",
       "      <td>98144</td>\n",
       "    </tr>\n",
       "  </tbody>\n",
       "</table>\n",
       "<p>21322 rows × 24 columns</p>\n",
       "</div>"
      ],
      "text/plain": [
       "            bathroom_count  bathrooms  baths_2.0  baths_3.0  baths_4.0  \\\n",
       "id                                                                       \n",
       "7129300520             1.0       1.00        0.0        0.0        0.0   \n",
       "6414100192             3.0       2.25        0.0        1.0        0.0   \n",
       "5631500400             1.0       1.00        0.0        0.0        0.0   \n",
       "2487200875             3.0       3.00        0.0        1.0        0.0   \n",
       "1954400510             2.0       2.00        1.0        0.0        0.0   \n",
       "...                    ...        ...        ...        ...        ...   \n",
       "263000018              3.0       2.50        0.0        1.0        0.0   \n",
       "6600060120             3.0       2.50        0.0        1.0        0.0   \n",
       "1523300141             1.0       0.75        0.0        0.0        0.0   \n",
       "291310100              3.0       2.50        0.0        1.0        0.0   \n",
       "1523300157             1.0       0.75        0.0        0.0        0.0   \n",
       "\n",
       "            baths_5.0  bedrooms  condition  floors  grade      lat     long  \\\n",
       "id                                                                            \n",
       "7129300520        0.0         3          3     1.0      7  47.5112 -122.257   \n",
       "6414100192        0.0         3          3     2.0      7  47.7210 -122.319   \n",
       "5631500400        0.0         2          3     1.0      6  47.7379 -122.233   \n",
       "2487200875        0.0         4          5     1.0      7  47.5208 -122.393   \n",
       "1954400510        0.0         3          3     1.0      8  47.6168 -122.045   \n",
       "...               ...       ...        ...     ...    ...      ...      ...   \n",
       "263000018         0.0         3          3     3.0      8  47.6993 -122.346   \n",
       "6600060120        0.0         4          3     2.0      8  47.5107 -122.362   \n",
       "1523300141        0.0         2          3     2.0      7  47.5944 -122.299   \n",
       "291310100         0.0         3          3     2.0      8  47.5345 -122.069   \n",
       "1523300157        0.0         2          3     2.0      7  47.5941 -122.299   \n",
       "\n",
       "               price  sqft_above  sqft_basement  sqft_living  sqft_living15  \\\n",
       "id                                                                            \n",
       "7129300520  221900.0        1180              0         1180           1340   \n",
       "6414100192  538000.0        2170            400         2570           1690   \n",
       "5631500400  180000.0         770              0          770           2720   \n",
       "2487200875  604000.0        1050            910         1960           1360   \n",
       "1954400510  510000.0        1680              0         1680           1800   \n",
       "...              ...         ...            ...          ...            ...   \n",
       "263000018   360000.0        1530              0         1530           1530   \n",
       "6600060120  400000.0        2310              0         2310           1830   \n",
       "1523300141  402101.0        1020              0         1020           1020   \n",
       "291310100   400000.0        1600              0         1600           1410   \n",
       "1523300157  325000.0        1020              0         1020           1020   \n",
       "\n",
       "            sqft_lot  sqft_lot15  view  waterfront  yr_built  yr_renovated  \\\n",
       "id                                                                           \n",
       "7129300520      5650        5650   0.0         0.0      1955           0.0   \n",
       "6414100192      7242        7639   0.0         0.0      1951        1991.0   \n",
       "5631500400     10000        8062   0.0         0.0      1933           0.0   \n",
       "2487200875      5000        5000   0.0         0.0      1965           0.0   \n",
       "1954400510      8080        7503   0.0         0.0      1987           0.0   \n",
       "...              ...         ...   ...         ...       ...           ...   \n",
       "263000018       1131        1509   0.0         0.0      2009           0.0   \n",
       "6600060120      5813        7200   0.0         0.0      2014           0.0   \n",
       "1523300141      1350        2007   0.0         0.0      2009           0.0   \n",
       "291310100       2388        1287   0.0         0.0      2004           0.0   \n",
       "1523300157      1076        1357   0.0         0.0      2008           0.0   \n",
       "\n",
       "            zipcode  \n",
       "id                   \n",
       "7129300520    98178  \n",
       "6414100192    98125  \n",
       "5631500400    98028  \n",
       "2487200875    98136  \n",
       "1954400510    98074  \n",
       "...             ...  \n",
       "263000018     98103  \n",
       "6600060120    98146  \n",
       "1523300141    98144  \n",
       "291310100     98027  \n",
       "1523300157    98144  \n",
       "\n",
       "[21322 rows x 24 columns]"
      ]
     },
     "execution_count": 78,
     "metadata": {},
     "output_type": "execute_result"
    }
   ],
   "source": [
    "temp_df"
   ]
  },
  {
   "cell_type": "code",
   "execution_count": 79,
   "metadata": {},
   "outputs": [
    {
     "data": {
      "text/plain": [
       "{'r2_adjusted': 0.9190639959701579,\n",
       " 'train_rmse': 178656.20437361643,\n",
       " 'test_rmse': 179715.1069839552,\n",
       " 'diff_rmse': 1058.9026103387587}"
      ]
     },
     "execution_count": 79,
     "metadata": {},
     "output_type": "execute_result"
    }
   ],
   "source": [
    "temp_df = lot.copy()\n",
    "temp_df['sqft_lot_log'] = np.log(temp_df['sqft_lot'])\n",
    "\n",
    "X = temp_df.drop(columns=['price', 'sqft_lot'])\n",
    "y = temp_df['price']\n",
    "\n",
    "quicktest(X, y)"
   ]
  },
  {
   "cell_type": "code",
   "execution_count": 80,
   "metadata": {},
   "outputs": [
    {
     "data": {
      "text/html": [
       "<div>\n",
       "<style scoped>\n",
       "    .dataframe tbody tr th:only-of-type {\n",
       "        vertical-align: middle;\n",
       "    }\n",
       "\n",
       "    .dataframe tbody tr th {\n",
       "        vertical-align: top;\n",
       "    }\n",
       "\n",
       "    .dataframe thead th {\n",
       "        text-align: right;\n",
       "    }\n",
       "</style>\n",
       "<table border=\"1\" class=\"dataframe\">\n",
       "  <thead>\n",
       "    <tr style=\"text-align: right;\">\n",
       "      <th></th>\n",
       "      <th>sqft_living_log</th>\n",
       "      <th>sqft_lot_log</th>\n",
       "    </tr>\n",
       "  </thead>\n",
       "  <tbody>\n",
       "    <tr>\n",
       "      <th>sqft_living_log</th>\n",
       "      <td>1.000000</td>\n",
       "      <td>0.318093</td>\n",
       "    </tr>\n",
       "    <tr>\n",
       "      <th>sqft_lot_log</th>\n",
       "      <td>0.318093</td>\n",
       "      <td>1.000000</td>\n",
       "    </tr>\n",
       "  </tbody>\n",
       "</table>\n",
       "</div>"
      ],
      "text/plain": [
       "                 sqft_living_log  sqft_lot_log\n",
       "sqft_living_log         1.000000      0.318093\n",
       "sqft_lot_log            0.318093      1.000000"
      ]
     },
     "execution_count": 80,
     "metadata": {},
     "output_type": "execute_result"
    }
   ],
   "source": [
    "# Check correlation between sqft_living and sqft_lot since we did the same transformations on them.\n",
    "X[['sqft_living_log', 'sqft_lot_log']].corr()"
   ]
  },
  {
   "cell_type": "code",
   "execution_count": 81,
   "metadata": {},
   "outputs": [
    {
     "data": {
      "text/plain": [
       "{'r2_adjusted': 0.9190639959701579,\n",
       " 'train_rmse': 178656.20437361643,\n",
       " 'test_rmse': 179715.1069839552,\n",
       " 'diff_rmse': 1058.9026103387587}"
      ]
     },
     "execution_count": 81,
     "metadata": {},
     "output_type": "execute_result"
    }
   ],
   "source": [
    "#save it\n",
    "\n",
    "lot = temp_df\n",
    "\n",
    "quicktest(X, y, name='4 (sqft_lot outliers and log)')"
   ]
  },
  {
   "cell_type": "code",
   "execution_count": 82,
   "metadata": {},
   "outputs": [
    {
     "data": {
      "text/html": [
       "<div>\n",
       "<style scoped>\n",
       "    .dataframe tbody tr th:only-of-type {\n",
       "        vertical-align: middle;\n",
       "    }\n",
       "\n",
       "    .dataframe tbody tr th {\n",
       "        vertical-align: top;\n",
       "    }\n",
       "\n",
       "    .dataframe thead th {\n",
       "        text-align: right;\n",
       "    }\n",
       "</style>\n",
       "<table border=\"1\" class=\"dataframe\">\n",
       "  <thead>\n",
       "    <tr style=\"text-align: right;\">\n",
       "      <th></th>\n",
       "      <th>r2_adjusted</th>\n",
       "      <th>test_rmse</th>\n",
       "      <th>train_rmse</th>\n",
       "      <th>diff_rmse</th>\n",
       "    </tr>\n",
       "  </thead>\n",
       "  <tbody>\n",
       "    <tr>\n",
       "      <th>baseline</th>\n",
       "      <td>0.905289</td>\n",
       "      <td>201209.512420</td>\n",
       "      <td>202862.451447</td>\n",
       "      <td>1652.939027</td>\n",
       "    </tr>\n",
       "    <tr>\n",
       "      <th>1 (Bedrooms Dropped)</th>\n",
       "      <td>0.906003</td>\n",
       "      <td>199778.707025</td>\n",
       "      <td>201306.858567</td>\n",
       "      <td>1528.151542</td>\n",
       "    </tr>\n",
       "    <tr>\n",
       "      <th>2 (Bathrooms dropped and divided)</th>\n",
       "      <td>0.913040</td>\n",
       "      <td>188131.823986</td>\n",
       "      <td>189368.634429</td>\n",
       "      <td>1236.810444</td>\n",
       "    </tr>\n",
       "    <tr>\n",
       "      <th>3 (sqft_living outliers and log)</th>\n",
       "      <td>0.918639</td>\n",
       "      <td>179287.334419</td>\n",
       "      <td>180450.546056</td>\n",
       "      <td>1163.211638</td>\n",
       "    </tr>\n",
       "    <tr>\n",
       "      <th>4 (sqft_lot outliers and log)</th>\n",
       "      <td>0.919064</td>\n",
       "      <td>178656.204374</td>\n",
       "      <td>179715.106984</td>\n",
       "      <td>1058.902610</td>\n",
       "    </tr>\n",
       "  </tbody>\n",
       "</table>\n",
       "</div>"
      ],
      "text/plain": [
       "                                   r2_adjusted      test_rmse     train_rmse  \\\n",
       "baseline                              0.905289  201209.512420  202862.451447   \n",
       "1 (Bedrooms Dropped)                  0.906003  199778.707025  201306.858567   \n",
       "2 (Bathrooms dropped and divided)     0.913040  188131.823986  189368.634429   \n",
       "3 (sqft_living outliers and log)      0.918639  179287.334419  180450.546056   \n",
       "4 (sqft_lot outliers and log)         0.919064  178656.204374  179715.106984   \n",
       "\n",
       "                                     diff_rmse  \n",
       "baseline                           1652.939027  \n",
       "1 (Bedrooms Dropped)               1528.151542  \n",
       "2 (Bathrooms dropped and divided)  1236.810444  \n",
       "3 (sqft_living outliers and log)   1163.211638  \n",
       "4 (sqft_lot outliers and log)      1058.902610  "
      ]
     },
     "execution_count": 82,
     "metadata": {},
     "output_type": "execute_result"
    }
   ],
   "source": [
    "model_report()"
   ]
  },
  {
   "cell_type": "markdown",
   "metadata": {},
   "source": [
    "Thats a tiny bit better.  Lets move on."
   ]
  },
  {
   "cell_type": "markdown",
   "metadata": {},
   "source": [
    "## Floors"
   ]
  },
  {
   "cell_type": "code",
   "execution_count": 83,
   "metadata": {},
   "outputs": [],
   "source": [
    "floors = lot.copy()"
   ]
  },
  {
   "cell_type": "code",
   "execution_count": 84,
   "metadata": {},
   "outputs": [
    {
     "data": {
      "text/plain": [
       "<matplotlib.axes._subplots.AxesSubplot at 0x121198b50>"
      ]
     },
     "execution_count": 84,
     "metadata": {},
     "output_type": "execute_result"
    },
    {
     "data": {
      "image/png": "[encoded data removed]",
      "text/plain": [
       "<Figure size 432x288 with 1 Axes>"
      ]
     },
     "metadata": {
      "needs_background": "light"
     },
     "output_type": "display_data"
    }
   ],
   "source": [
    "floors['floors'].hist()"
   ]
  },
  {
   "cell_type": "markdown",
   "metadata": {},
   "source": [
    "I would say there is no such thing as half a floor.  Lets group these into the number of floors regardless of how much of the house the floor covers, and see if they perform better as continuous or categorical variables."
   ]
  },
  {
   "cell_type": "code",
   "execution_count": 85,
   "metadata": {},
   "outputs": [
    {
     "data": {
      "text/plain": [
       "<matplotlib.axes._subplots.AxesSubplot at 0x1213777c0>"
      ]
     },
     "execution_count": 85,
     "metadata": {},
     "output_type": "execute_result"
    },
    {
     "data": {
      "image/png": "[encoded data removed]",
      "text/plain": [
       "<Figure size 432x288 with 1 Axes>"
      ]
     },
     "metadata": {
      "needs_background": "light"
     },
     "output_type": "display_data"
    }
   ],
   "source": [
    "df1 = floors.copy()\n",
    "df1['floor_count'] = np.ceil(df1['floors']).astype('int')\n",
    "df1 = df1.drop(columns=['floors'])\n",
    "df1['floor_count'].hist()"
   ]
  },
  {
   "cell_type": "code",
   "execution_count": 86,
   "metadata": {},
   "outputs": [
    {
     "data": {
      "text/html": [
       "<div>\n",
       "<style scoped>\n",
       "    .dataframe tbody tr th:only-of-type {\n",
       "        vertical-align: middle;\n",
       "    }\n",
       "\n",
       "    .dataframe tbody tr th {\n",
       "        vertical-align: top;\n",
       "    }\n",
       "\n",
       "    .dataframe thead th {\n",
       "        text-align: right;\n",
       "    }\n",
       "</style>\n",
       "<table border=\"1\" class=\"dataframe\">\n",
       "  <thead>\n",
       "    <tr style=\"text-align: right;\">\n",
       "      <th></th>\n",
       "      <th>price</th>\n",
       "      <th>bedrooms</th>\n",
       "      <th>bathrooms</th>\n",
       "      <th>sqft_lot</th>\n",
       "      <th>waterfront</th>\n",
       "      <th>view</th>\n",
       "      <th>condition</th>\n",
       "      <th>grade</th>\n",
       "      <th>sqft_above</th>\n",
       "      <th>sqft_basement</th>\n",
       "      <th>yr_built</th>\n",
       "      <th>yr_renovated</th>\n",
       "      <th>zipcode</th>\n",
       "      <th>lat</th>\n",
       "      <th>long</th>\n",
       "      <th>sqft_living15</th>\n",
       "      <th>sqft_lot15</th>\n",
       "      <th>baths_full</th>\n",
       "      <th>baths_partial</th>\n",
       "      <th>sqft_living_log</th>\n",
       "      <th>sqft_lot_log</th>\n",
       "      <th>floor_count</th>\n",
       "    </tr>\n",
       "    <tr>\n",
       "      <th>id</th>\n",
       "      <th></th>\n",
       "      <th></th>\n",
       "      <th></th>\n",
       "      <th></th>\n",
       "      <th></th>\n",
       "      <th></th>\n",
       "      <th></th>\n",
       "      <th></th>\n",
       "      <th></th>\n",
       "      <th></th>\n",
       "      <th></th>\n",
       "      <th></th>\n",
       "      <th></th>\n",
       "      <th></th>\n",
       "      <th></th>\n",
       "      <th></th>\n",
       "      <th></th>\n",
       "      <th></th>\n",
       "      <th></th>\n",
       "      <th></th>\n",
       "      <th></th>\n",
       "      <th></th>\n",
       "    </tr>\n",
       "  </thead>\n",
       "  <tbody>\n",
       "    <tr>\n",
       "      <th>1972202010</th>\n",
       "      <td>435000.0</td>\n",
       "      <td>3</td>\n",
       "      <td>3.00</td>\n",
       "      <td>1350</td>\n",
       "      <td>0.0</td>\n",
       "      <td>2.0</td>\n",
       "      <td>3</td>\n",
       "      <td>8</td>\n",
       "      <td>1440</td>\n",
       "      <td>0</td>\n",
       "      <td>2005</td>\n",
       "      <td>0.0</td>\n",
       "      <td>98103</td>\n",
       "      <td>47.6525</td>\n",
       "      <td>-122.345</td>\n",
       "      <td>1440</td>\n",
       "      <td>1350</td>\n",
       "      <td>3.0</td>\n",
       "      <td>0.0</td>\n",
       "      <td>7.272398</td>\n",
       "      <td>7.207860</td>\n",
       "      <td>4</td>\n",
       "    </tr>\n",
       "    <tr>\n",
       "      <th>3180100023</th>\n",
       "      <td>544000.0</td>\n",
       "      <td>3</td>\n",
       "      <td>2.50</td>\n",
       "      <td>1755</td>\n",
       "      <td>0.0</td>\n",
       "      <td>0.0</td>\n",
       "      <td>3</td>\n",
       "      <td>8</td>\n",
       "      <td>1760</td>\n",
       "      <td>0</td>\n",
       "      <td>1998</td>\n",
       "      <td>0.0</td>\n",
       "      <td>98105</td>\n",
       "      <td>47.6688</td>\n",
       "      <td>-122.279</td>\n",
       "      <td>1700</td>\n",
       "      <td>1721</td>\n",
       "      <td>2.0</td>\n",
       "      <td>1.0</td>\n",
       "      <td>7.473069</td>\n",
       "      <td>7.470224</td>\n",
       "      <td>4</td>\n",
       "    </tr>\n",
       "    <tr>\n",
       "      <th>8673400177</th>\n",
       "      <td>525000.0</td>\n",
       "      <td>3</td>\n",
       "      <td>3.00</td>\n",
       "      <td>1074</td>\n",
       "      <td>0.0</td>\n",
       "      <td>0.0</td>\n",
       "      <td>3</td>\n",
       "      <td>8</td>\n",
       "      <td>1730</td>\n",
       "      <td>0</td>\n",
       "      <td>2006</td>\n",
       "      <td>0.0</td>\n",
       "      <td>98107</td>\n",
       "      <td>47.6692</td>\n",
       "      <td>-122.392</td>\n",
       "      <td>1370</td>\n",
       "      <td>1185</td>\n",
       "      <td>3.0</td>\n",
       "      <td>0.0</td>\n",
       "      <td>7.455877</td>\n",
       "      <td>6.979145</td>\n",
       "      <td>4</td>\n",
       "    </tr>\n",
       "    <tr>\n",
       "      <th>1702900664</th>\n",
       "      <td>479000.0</td>\n",
       "      <td>2</td>\n",
       "      <td>2.50</td>\n",
       "      <td>1037</td>\n",
       "      <td>0.0</td>\n",
       "      <td>0.0</td>\n",
       "      <td>3</td>\n",
       "      <td>8</td>\n",
       "      <td>1730</td>\n",
       "      <td>0</td>\n",
       "      <td>2008</td>\n",
       "      <td>0.0</td>\n",
       "      <td>98118</td>\n",
       "      <td>47.5594</td>\n",
       "      <td>-122.285</td>\n",
       "      <td>1280</td>\n",
       "      <td>1026</td>\n",
       "      <td>2.0</td>\n",
       "      <td>1.0</td>\n",
       "      <td>7.455877</td>\n",
       "      <td>6.944087</td>\n",
       "      <td>4</td>\n",
       "    </tr>\n",
       "    <tr>\n",
       "      <th>1972200426</th>\n",
       "      <td>525000.0</td>\n",
       "      <td>2</td>\n",
       "      <td>2.75</td>\n",
       "      <td>1268</td>\n",
       "      <td>0.0</td>\n",
       "      <td>0.0</td>\n",
       "      <td>3</td>\n",
       "      <td>8</td>\n",
       "      <td>1310</td>\n",
       "      <td>0</td>\n",
       "      <td>2007</td>\n",
       "      <td>0.0</td>\n",
       "      <td>98103</td>\n",
       "      <td>47.6534</td>\n",
       "      <td>-122.355</td>\n",
       "      <td>1350</td>\n",
       "      <td>1288</td>\n",
       "      <td>2.0</td>\n",
       "      <td>1.0</td>\n",
       "      <td>7.177782</td>\n",
       "      <td>7.145196</td>\n",
       "      <td>4</td>\n",
       "    </tr>\n",
       "    <tr>\n",
       "      <th>1972200428</th>\n",
       "      <td>563500.0</td>\n",
       "      <td>3</td>\n",
       "      <td>2.50</td>\n",
       "      <td>1312</td>\n",
       "      <td>0.0</td>\n",
       "      <td>0.0</td>\n",
       "      <td>3</td>\n",
       "      <td>8</td>\n",
       "      <td>1400</td>\n",
       "      <td>0</td>\n",
       "      <td>2007</td>\n",
       "      <td>0.0</td>\n",
       "      <td>98103</td>\n",
       "      <td>47.6534</td>\n",
       "      <td>-122.355</td>\n",
       "      <td>1350</td>\n",
       "      <td>1312</td>\n",
       "      <td>2.0</td>\n",
       "      <td>1.0</td>\n",
       "      <td>7.244228</td>\n",
       "      <td>7.179308</td>\n",
       "      <td>4</td>\n",
       "    </tr>\n",
       "  </tbody>\n",
       "</table>\n",
       "</div>"
      ],
      "text/plain": [
       "               price  bedrooms  bathrooms  sqft_lot  waterfront  view  \\\n",
       "id                                                                      \n",
       "1972202010  435000.0         3       3.00      1350         0.0   2.0   \n",
       "3180100023  544000.0         3       2.50      1755         0.0   0.0   \n",
       "8673400177  525000.0         3       3.00      1074         0.0   0.0   \n",
       "1702900664  479000.0         2       2.50      1037         0.0   0.0   \n",
       "1972200426  525000.0         2       2.75      1268         0.0   0.0   \n",
       "1972200428  563500.0         3       2.50      1312         0.0   0.0   \n",
       "\n",
       "            condition  grade  sqft_above  sqft_basement  yr_built  \\\n",
       "id                                                                  \n",
       "1972202010          3      8        1440              0      2005   \n",
       "3180100023          3      8        1760              0      1998   \n",
       "8673400177          3      8        1730              0      2006   \n",
       "1702900664          3      8        1730              0      2008   \n",
       "1972200426          3      8        1310              0      2007   \n",
       "1972200428          3      8        1400              0      2007   \n",
       "\n",
       "            yr_renovated  zipcode      lat     long  sqft_living15  \\\n",
       "id                                                                   \n",
       "1972202010           0.0    98103  47.6525 -122.345           1440   \n",
       "3180100023           0.0    98105  47.6688 -122.279           1700   \n",
       "8673400177           0.0    98107  47.6692 -122.392           1370   \n",
       "1702900664           0.0    98118  47.5594 -122.285           1280   \n",
       "1972200426           0.0    98103  47.6534 -122.355           1350   \n",
       "1972200428           0.0    98103  47.6534 -122.355           1350   \n",
       "\n",
       "            sqft_lot15  baths_full  baths_partial  sqft_living_log  \\\n",
       "id                                                                   \n",
       "1972202010        1350         3.0            0.0         7.272398   \n",
       "3180100023        1721         2.0            1.0         7.473069   \n",
       "8673400177        1185         3.0            0.0         7.455877   \n",
       "1702900664        1026         2.0            1.0         7.455877   \n",
       "1972200426        1288         2.0            1.0         7.177782   \n",
       "1972200428        1312         2.0            1.0         7.244228   \n",
       "\n",
       "            sqft_lot_log  floor_count  \n",
       "id                                     \n",
       "1972202010      7.207860            4  \n",
       "3180100023      7.470224            4  \n",
       "8673400177      6.979145            4  \n",
       "1702900664      6.944087            4  \n",
       "1972200426      7.145196            4  \n",
       "1972200428      7.179308            4  "
      ]
     },
     "execution_count": 86,
     "metadata": {},
     "output_type": "execute_result"
    }
   ],
   "source": [
    "# How many have 4 floors?\n",
    "df1[df1['floor_count'] > 3]"
   ]
  },
  {
   "cell_type": "code",
   "execution_count": 87,
   "metadata": {},
   "outputs": [
    {
     "data": {
      "text/plain": [
       "<matplotlib.axes._subplots.AxesSubplot at 0x12127b430>"
      ]
     },
     "execution_count": 87,
     "metadata": {},
     "output_type": "execute_result"
    },
    {
     "data": {
      "image/png": "[encoded data removed]",
      "text/plain": [
       "<Figure size 432x288 with 1 Axes>"
      ]
     },
     "metadata": {
      "needs_background": "light"
     },
     "output_type": "display_data"
    }
   ],
   "source": [
    "# drop them\n",
    "df1 = df1[df1['floor_count'] < 4]\n",
    "df1['floor_count'].hist(bins=5)"
   ]
  },
  {
   "cell_type": "code",
   "execution_count": 88,
   "metadata": {},
   "outputs": [
    {
     "data": {
      "text/plain": [
       "{'r2_adjusted': 0.9192390705602923,\n",
       " 'train_rmse': 178444.7626225047,\n",
       " 'test_rmse': 179460.65322084585,\n",
       " 'diff_rmse': 1015.8905983411532}"
      ]
     },
     "execution_count": 88,
     "metadata": {},
     "output_type": "execute_result"
    }
   ],
   "source": [
    "X = df1.drop(columns=['price'])\n",
    "y = df1['price']\n",
    "\n",
    "quicktest(X, y)"
   ]
  },
  {
   "cell_type": "markdown",
   "metadata": {},
   "source": [
    "Thats an improvement.  Now lets see if its better as a categorical."
   ]
  },
  {
   "cell_type": "code",
   "execution_count": 91,
   "metadata": {},
   "outputs": [
    {
     "data": {
      "text/html": [
       "<div>\n",
       "<style scoped>\n",
       "    .dataframe tbody tr th:only-of-type {\n",
       "        vertical-align: middle;\n",
       "    }\n",
       "\n",
       "    .dataframe tbody tr th {\n",
       "        vertical-align: top;\n",
       "    }\n",
       "\n",
       "    .dataframe thead th {\n",
       "        text-align: right;\n",
       "    }\n",
       "</style>\n",
       "<table border=\"1\" class=\"dataframe\">\n",
       "  <thead>\n",
       "    <tr style=\"text-align: right;\">\n",
       "      <th></th>\n",
       "      <th>bathrooms</th>\n",
       "      <th>baths_full</th>\n",
       "      <th>baths_partial</th>\n",
       "      <th>bedrooms</th>\n",
       "      <th>condition</th>\n",
       "      <th>floors_2</th>\n",
       "      <th>floors_3</th>\n",
       "      <th>grade</th>\n",
       "      <th>lat</th>\n",
       "      <th>long</th>\n",
       "      <th>price</th>\n",
       "      <th>sqft_above</th>\n",
       "      <th>sqft_basement</th>\n",
       "      <th>sqft_living15</th>\n",
       "      <th>sqft_living_log</th>\n",
       "      <th>sqft_lot</th>\n",
       "      <th>sqft_lot15</th>\n",
       "      <th>sqft_lot_log</th>\n",
       "      <th>view</th>\n",
       "      <th>waterfront</th>\n",
       "      <th>yr_built</th>\n",
       "      <th>yr_renovated</th>\n",
       "      <th>zipcode</th>\n",
       "    </tr>\n",
       "    <tr>\n",
       "      <th>id</th>\n",
       "      <th></th>\n",
       "      <th></th>\n",
       "      <th></th>\n",
       "      <th></th>\n",
       "      <th></th>\n",
       "      <th></th>\n",
       "      <th></th>\n",
       "      <th></th>\n",
       "      <th></th>\n",
       "      <th></th>\n",
       "      <th></th>\n",
       "      <th></th>\n",
       "      <th></th>\n",
       "      <th></th>\n",
       "      <th></th>\n",
       "      <th></th>\n",
       "      <th></th>\n",
       "      <th></th>\n",
       "      <th></th>\n",
       "      <th></th>\n",
       "      <th></th>\n",
       "      <th></th>\n",
       "      <th></th>\n",
       "    </tr>\n",
       "  </thead>\n",
       "  <tbody>\n",
       "    <tr>\n",
       "      <th>7129300520</th>\n",
       "      <td>1.00</td>\n",
       "      <td>1.0</td>\n",
       "      <td>0.0</td>\n",
       "      <td>3</td>\n",
       "      <td>3</td>\n",
       "      <td>0.0</td>\n",
       "      <td>0.0</td>\n",
       "      <td>7</td>\n",
       "      <td>47.5112</td>\n",
       "      <td>-122.257</td>\n",
       "      <td>221900.0</td>\n",
       "      <td>1180</td>\n",
       "      <td>0</td>\n",
       "      <td>1340</td>\n",
       "      <td>7.073270</td>\n",
       "      <td>5650</td>\n",
       "      <td>5650</td>\n",
       "      <td>8.639411</td>\n",
       "      <td>0.0</td>\n",
       "      <td>0.0</td>\n",
       "      <td>1955</td>\n",
       "      <td>0.0</td>\n",
       "      <td>98178</td>\n",
       "    </tr>\n",
       "    <tr>\n",
       "      <th>6414100192</th>\n",
       "      <td>2.25</td>\n",
       "      <td>2.0</td>\n",
       "      <td>1.0</td>\n",
       "      <td>3</td>\n",
       "      <td>3</td>\n",
       "      <td>1.0</td>\n",
       "      <td>0.0</td>\n",
       "      <td>7</td>\n",
       "      <td>47.7210</td>\n",
       "      <td>-122.319</td>\n",
       "      <td>538000.0</td>\n",
       "      <td>2170</td>\n",
       "      <td>400</td>\n",
       "      <td>1690</td>\n",
       "      <td>7.851661</td>\n",
       "      <td>7242</td>\n",
       "      <td>7639</td>\n",
       "      <td>8.887653</td>\n",
       "      <td>0.0</td>\n",
       "      <td>0.0</td>\n",
       "      <td>1951</td>\n",
       "      <td>1991.0</td>\n",
       "      <td>98125</td>\n",
       "    </tr>\n",
       "  </tbody>\n",
       "</table>\n",
       "</div>"
      ],
      "text/plain": [
       "            bathrooms  baths_full  baths_partial  bedrooms  condition  \\\n",
       "id                                                                      \n",
       "7129300520       1.00         1.0            0.0         3          3   \n",
       "6414100192       2.25         2.0            1.0         3          3   \n",
       "\n",
       "            floors_2  floors_3  grade      lat     long     price  sqft_above  \\\n",
       "id                                                                              \n",
       "7129300520       0.0       0.0      7  47.5112 -122.257  221900.0        1180   \n",
       "6414100192       1.0       0.0      7  47.7210 -122.319  538000.0        2170   \n",
       "\n",
       "            sqft_basement  sqft_living15  sqft_living_log  sqft_lot  \\\n",
       "id                                                                    \n",
       "7129300520              0           1340         7.073270      5650   \n",
       "6414100192            400           1690         7.851661      7242   \n",
       "\n",
       "            sqft_lot15  sqft_lot_log  view  waterfront  yr_built  \\\n",
       "id                                                                 \n",
       "7129300520        5650      8.639411   0.0         0.0      1955   \n",
       "6414100192        7639      8.887653   0.0         0.0      1951   \n",
       "\n",
       "            yr_renovated  zipcode  \n",
       "id                                 \n",
       "7129300520           0.0    98178  \n",
       "6414100192        1991.0    98125  "
      ]
     },
     "execution_count": 91,
     "metadata": {},
     "output_type": "execute_result"
    }
   ],
   "source": [
    "df2 = df1.copy()\n",
    "dummies = pd.get_dummies(df2['floor_count'], prefix='floors', drop_first=True)\n",
    "df2 = df2.combine_first(dummies)\n",
    "df2 = df2.drop(columns=['floor_count'])\n",
    "df2.head(2)"
   ]
  },
  {
   "cell_type": "code",
   "execution_count": 92,
   "metadata": {},
   "outputs": [
    {
     "data": {
      "text/plain": [
       "{'r2_adjusted': 0.9192954854793941,\n",
       " 'train_rmse': 178365.8457784076,\n",
       " 'test_rmse': 179382.87345100968,\n",
       " 'diff_rmse': 1017.0276726020966}"
      ]
     },
     "execution_count": 92,
     "metadata": {},
     "output_type": "execute_result"
    }
   ],
   "source": [
    "X = df2.drop(columns=['price'])\n",
    "y = df2['price']\n",
    "\n",
    "quicktest(X, y)"
   ]
  },
  {
   "cell_type": "markdown",
   "metadata": {},
   "source": [
    "There is no benefit to having floors as a categorical variable."
   ]
  },
  {
   "cell_type": "code",
   "execution_count": 93,
   "metadata": {},
   "outputs": [
    {
     "data": {
      "text/plain": [
       "{'r2_adjusted': 0.9192390705602923,\n",
       " 'train_rmse': 178444.7626225047,\n",
       " 'test_rmse': 179460.65322084585,\n",
       " 'diff_rmse': 1015.8905983411532}"
      ]
     },
     "execution_count": 93,
     "metadata": {},
     "output_type": "execute_result"
    }
   ],
   "source": [
    "X = df1.drop(columns=['price'])\n",
    "y = df1['price']\n",
    "\n",
    "quicktest(X, y, name='5 (Floors -> floor count)')"
   ]
  },
  {
   "cell_type": "code",
   "execution_count": 94,
   "metadata": {},
   "outputs": [
    {
     "data": {
      "text/html": [
       "<div>\n",
       "<style scoped>\n",
       "    .dataframe tbody tr th:only-of-type {\n",
       "        vertical-align: middle;\n",
       "    }\n",
       "\n",
       "    .dataframe tbody tr th {\n",
       "        vertical-align: top;\n",
       "    }\n",
       "\n",
       "    .dataframe thead th {\n",
       "        text-align: right;\n",
       "    }\n",
       "</style>\n",
       "<table border=\"1\" class=\"dataframe\">\n",
       "  <thead>\n",
       "    <tr style=\"text-align: right;\">\n",
       "      <th></th>\n",
       "      <th>r2_adjusted</th>\n",
       "      <th>test_rmse</th>\n",
       "      <th>train_rmse</th>\n",
       "      <th>diff_rmse</th>\n",
       "    </tr>\n",
       "  </thead>\n",
       "  <tbody>\n",
       "    <tr>\n",
       "      <th>baseline</th>\n",
       "      <td>0.905289</td>\n",
       "      <td>201209.512420</td>\n",
       "      <td>202862.451447</td>\n",
       "      <td>1652.939027</td>\n",
       "    </tr>\n",
       "    <tr>\n",
       "      <th>1 (Bedrooms Dropped)</th>\n",
       "      <td>0.906003</td>\n",
       "      <td>199778.707025</td>\n",
       "      <td>201306.858567</td>\n",
       "      <td>1528.151542</td>\n",
       "    </tr>\n",
       "    <tr>\n",
       "      <th>2 (Bathrooms dropped and divided)</th>\n",
       "      <td>0.913040</td>\n",
       "      <td>188131.823986</td>\n",
       "      <td>189368.634429</td>\n",
       "      <td>1236.810444</td>\n",
       "    </tr>\n",
       "    <tr>\n",
       "      <th>3 (sqft_living outliers and log)</th>\n",
       "      <td>0.918639</td>\n",
       "      <td>179287.334419</td>\n",
       "      <td>180450.546056</td>\n",
       "      <td>1163.211638</td>\n",
       "    </tr>\n",
       "    <tr>\n",
       "      <th>4 (sqft_lot outliers and log)</th>\n",
       "      <td>0.919064</td>\n",
       "      <td>178656.204374</td>\n",
       "      <td>179715.106984</td>\n",
       "      <td>1058.902610</td>\n",
       "    </tr>\n",
       "    <tr>\n",
       "      <th>5 (Floors -&gt; floor count)</th>\n",
       "      <td>0.919239</td>\n",
       "      <td>178444.762623</td>\n",
       "      <td>179460.653221</td>\n",
       "      <td>1015.890598</td>\n",
       "    </tr>\n",
       "  </tbody>\n",
       "</table>\n",
       "</div>"
      ],
      "text/plain": [
       "                                   r2_adjusted      test_rmse     train_rmse  \\\n",
       "baseline                              0.905289  201209.512420  202862.451447   \n",
       "1 (Bedrooms Dropped)                  0.906003  199778.707025  201306.858567   \n",
       "2 (Bathrooms dropped and divided)     0.913040  188131.823986  189368.634429   \n",
       "3 (sqft_living outliers and log)      0.918639  179287.334419  180450.546056   \n",
       "4 (sqft_lot outliers and log)         0.919064  178656.204374  179715.106984   \n",
       "5 (Floors -> floor count)             0.919239  178444.762623  179460.653221   \n",
       "\n",
       "                                     diff_rmse  \n",
       "baseline                           1652.939027  \n",
       "1 (Bedrooms Dropped)               1528.151542  \n",
       "2 (Bathrooms dropped and divided)  1236.810444  \n",
       "3 (sqft_living outliers and log)   1163.211638  \n",
       "4 (sqft_lot outliers and log)      1058.902610  \n",
       "5 (Floors -> floor count)          1015.890598  "
      ]
     },
     "execution_count": 94,
     "metadata": {},
     "output_type": "execute_result"
    }
   ],
   "source": [
    "model_report()"
   ]
  },
  {
   "cell_type": "code",
   "execution_count": 97,
   "metadata": {},
   "outputs": [],
   "source": [
    "# save the final df for floors\n",
    "floors = df1.copy()"
   ]
  },
  {
   "cell_type": "markdown",
   "metadata": {},
   "source": [
    "## waterfront"
   ]
  },
  {
   "cell_type": "code",
   "execution_count": 98,
   "metadata": {},
   "outputs": [],
   "source": [
    "wf = floors.copy()"
   ]
  },
  {
   "cell_type": "code",
   "execution_count": 99,
   "metadata": {},
   "outputs": [
    {
     "data": {
      "text/plain": [
       "<matplotlib.axes._subplots.AxesSubplot at 0x125e66610>"
      ]
     },
     "execution_count": 99,
     "metadata": {},
     "output_type": "execute_result"
    },
    {
     "data": {
      "image/png": "[encoded data removed]",
      "text/plain": [
       "<Figure size 432x288 with 1 Axes>"
      ]
     },
     "metadata": {
      "needs_background": "light"
     },
     "output_type": "display_data"
    }
   ],
   "source": [
    "wf['waterfront'].hist()"
   ]
  },
  {
   "cell_type": "code",
   "execution_count": null,
   "metadata": {},
   "outputs": [],
   "source": []
  }
 ],
 "metadata": {
  "kernelspec": {
   "display_name": "Python 3",
   "language": "python",
   "name": "python3"
  },
  "language_info": {
   "codemirror_mode": {
    "name": "ipython",
    "version": 3
   },
   "file_extension": ".py",
   "mimetype": "text/x-python",
   "name": "python",
   "nbconvert_exporter": "python",
   "pygments_lexer": "ipython3",
   "version": "3.8.3"
  },
  "toc": {
   "base_numbering": 1,
   "nav_menu": {},
   "number_sections": true,
   "sideBar": true,
   "skip_h1_title": false,
   "title_cell": "Table of Contents",
   "title_sidebar": "Contents",
   "toc_cell": true,
   "toc_position": {},
   "toc_section_display": true,
   "toc_window_display": true
  }
 },
 "nbformat": 4,
 "nbformat_minor": 4
}
